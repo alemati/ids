{
 "cells": [
  {
   "cell_type": "code",
   "execution_count": 2,
   "id": "3c7bf8de",
   "metadata": {},
   "outputs": [
    {
     "name": "stdout",
     "output_type": "stream",
     "text": [
      "aleksanm\n"
     ]
    }
   ],
   "source": [
    "import pandas as pd\n",
    "import requests\n",
    "import json\n",
    "import csv\n",
    "import time\n",
    "import datetime\n",
    "import praw\n",
    "from pmaw import PushshiftAPI\n",
    "import praw\n",
    "from datetime import datetime\n",
    "start_time = datetime.now()\n",
    "\n",
    "reddit = praw.Reddit(client_id='J32hsxMDopeDEPrSFZz5zQ', \\\n",
    "                     client_secret='r8heiWleQYzL7JyKWU7QbwlXFCLmDg', \\\n",
    "                     user_agent='aleksanm', \\\n",
    "                     username='aleksanm', \\\n",
    "                     password='red26!red')\n",
    "api = PushshiftAPI(praw=reddit)\n",
    "print(reddit.user.me())"
   ]
  },
  {
   "cell_type": "code",
   "execution_count": 9,
   "id": "f0a217cb",
   "metadata": {},
   "outputs": [
    {
     "name": "stdout",
     "output_type": "stream",
     "text": [
      "cell2\n"
     ]
    }
   ],
   "source": [
    "#score_above = df[df[\"Score\"] > 10000]\n",
    "#score_above = score_above.sort_values(by=['Score'], ascending=False)\n",
    "#print(len(score_above))\n",
    "#print(score_above[[\"Post ID\",\"Title\", \"Score\", \"Publish Date\"]])\n",
    "print(\"cell2\")"
   ]
  },
  {
   "cell_type": "code",
   "execution_count": 10,
   "id": "837caa3d",
   "metadata": {},
   "outputs": [
    {
     "name": "stdout",
     "output_type": "stream",
     "text": [
      "cell3\n"
     ]
    }
   ],
   "source": [
    "print(\"cell3\")"
   ]
  },
  {
   "cell_type": "code",
   "execution_count": 11,
   "id": "1a1fc669",
   "metadata": {},
   "outputs": [],
   "source": [
    "#df = df.sort_values(by=['Publish Date'], ascending=False)\n",
    "#print(len(df))\n",
    "#print(df[[\"Post ID\",\"Title\", \"Score\", \"Publish Date\"]])  "
   ]
  },
  {
   "cell_type": "code",
   "execution_count": 12,
   "id": "ecd9f59f",
   "metadata": {},
   "outputs": [
    {
     "name": "stdout",
     "output_type": "stream",
     "text": [
      "Started at: 2021-10-23 01:23:42.573795\n"
     ]
    },
    {
     "name": "stderr",
     "output_type": "stream",
     "text": [
      "Not all PushShift shards are active. Query results may be incomplete.\n"
     ]
    },
    {
     "name": "stdout",
     "output_type": "stream",
     "text": [
      "31 result(s) available in Pushshift\n"
     ]
    },
    {
     "name": "stderr",
     "output_type": "stream",
     "text": [
      "Not all PushShift shards are active. Query results may be incomplete.\n"
     ]
    },
    {
     "name": "stdout",
     "output_type": "stream",
     "text": [
      "Total:: Success Rate: 100.00% - Requests: 10 - Batches: 1 - Items Remaining: 0\n",
      "Finishing enrichment for 31 items\n",
      "Duration: 0:00:11.949697\n",
      "                                                Title Score        Publish Date     Timestamp\n",
      "0               2019 Coronavirus Investigation Report     0 2020-09-30 23:10:43  1.601497e+09\n",
      "1            Thw cringiest podcast you will ever hear     1 2020-09-30 23:08:59  1.601497e+09\n",
      "2   Sebi levies Rs 12 lakh fine on Ganganagar Comm...     1 2020-09-30 23:08:33  1.601497e+09\n",
      "3   Poland's government heads further to the right...    20 2020-09-30 23:06:32  1.601496e+09\n",
      "4   Belarus authorities suspend popular news porta...    49 2020-09-30 23:15:27  1.601497e+09\n",
      "5   Israeli government votes to limit anti-Netanya...    16 2020-09-30 23:14:46  1.601497e+09\n",
      "6   Armenia and Azerbaijan Vow to Keep Fighting as...    38 2020-09-30 23:14:43  1.601497e+09\n",
      "7   6 rockets launched towards Erbil's airport, th...    26 2020-09-30 23:12:26  1.601497e+09\n",
      "8            The cringiest podcast you will ever hear     0 2020-09-30 23:12:17  1.601497e+09\n",
      "9   Après trois décennies de progrès informatiques...     1 2020-09-30 23:04:48  1.601496e+09\n",
      "10  IPL 2020: KKR vs RR: Kolkata Knight Riders bea...     1 2020-09-30 23:03:49  1.601496e+09\n",
      "11  Du fait de son internationalisation et des flu...     1 2020-09-30 23:02:06  1.601496e+09\n",
      "12  4 out of 10 S Koreans face mental issues due t...    28 2020-09-30 23:20:02  1.601497e+09\n",
      "13  Nigeria’s equity market rises 0.83%, driven by...     1 2020-09-30 23:18:25  1.601497e+09\n",
      "14  Heiress to Seagrams Liquor and sex cult benefa...    24 2020-09-30 23:28:46  1.601498e+09\n",
      "15  Nagorno-Karabakh: at least three Syrian fighte...    35 2020-09-30 23:26:42  1.601498e+09\n",
      "16  Congrats on making it to Hump Day! Have a rewa...     1 2020-09-30 23:35:13  1.601498e+09\n",
      "17  Ray McGuire de Citigroup recurre al ejecutivo ...     1 2020-09-30 23:31:44  1.601498e+09\n",
      "18  Facebook da su primer paso hacia la Internet '...     1 2020-09-30 23:31:42  1.601498e+09\n",
      "19  Perspectiva | Piense en el debate como un parq...     1 2020-09-30 23:31:42  1.601498e+09\n",
      "20  '¿Imagina que el Cáucaso se convierta en otra ...     1 2020-09-30 23:31:41  1.601498e+09\n",
      "21  Perspectiva | 8 recetas preparadas para cocina...     1 2020-09-30 23:31:40  1.601498e+09\n",
      "22  Starting from scratch: The Ontario dad who had...    16 2020-09-30 23:31:09  1.601498e+09\n",
      "23  Starting from scratch: The Ontario dad who had...     1 2020-09-30 23:30:41  1.601498e+09\n",
      "24  Seagram’s heiress Clare Bronfman sentenced to ...     1 2020-09-30 23:30:03  1.601498e+09\n",
      "25  From China to France, media dismayed at \"chaot...    15 2020-09-30 23:38:35  1.601498e+09\n",
      "26  Hotel of Tomorrow Project Unveils Five New Hos...     1 2020-09-30 23:47:24  1.601499e+09\n",
      "27  Alert IDF troops nab 4 Palestinians with fireb...     7 2020-09-30 23:43:04  1.601499e+09\n",
      "28  Paris meat cleaver attacker charged with attem...    16 2020-09-30 23:48:07  1.601499e+09\n",
      "29  Turkey has only been publishing symptomatic co...    46 2020-09-30 23:56:46  1.601499e+09\n",
      "30  Pope rejects US Secretary of Suppose Mike Pomp...     1 2020-09-30 23:56:13  1.601499e+09\n"
     ]
    }
   ],
   "source": [
    "start_time = datetime.now()\n",
    "print('Started at: {}'.format(start_time))\n",
    "\n",
    "submissions = api.search_submissions(subreddit=\"worldnews\", after=1601496000, before=1601499600)\n",
    "\n",
    "subStats = {}\n",
    "subData = list()\n",
    "\n",
    "for sub in submissions:\n",
    "    subData.append((sub['id'],sub['title'],sub['url'],sub['author'],sub['score'],sub['created']))\n",
    "    subStats[sub['id']] = subData\n",
    "\n",
    "    \n",
    "df = pd.DataFrame(columns=['Post ID', 'Title', 'Url', 'Author', 'Score', 'Publish Date', 'Timestamp'])\n",
    "for sub in subData:\n",
    "    created = datetime.fromtimestamp(sub[5]) \n",
    "    new_row = {'Post ID':sub[0], 'Title':sub[1], 'Url':sub[2], 'Author':sub[3], 'Score':sub[4], 'Publish Date':created, 'Timestamp':sub[5]}\n",
    "    df = df.append(new_row, ignore_index=True)\n",
    "\n",
    "end_time = datetime.now()\n",
    "print('Duration: {}'.format(end_time - start_time))\n",
    "    \n",
    "print(df[['Title', 'Score', 'Publish Date', 'Timestamp']]) "
   ]
  },
  {
   "cell_type": "code",
   "execution_count": 13,
   "id": "f4e8a2d2",
   "metadata": {},
   "outputs": [
    {
     "name": "stdout",
     "output_type": "stream",
     "text": [
      "Started at: 2021-10-23 01:23:54.544505\n"
     ]
    },
    {
     "name": "stderr",
     "output_type": "stream",
     "text": [
      "Not all PushShift shards are active. Query results may be incomplete.\n"
     ]
    },
    {
     "name": "stdout",
     "output_type": "stream",
     "text": [
      "24965 result(s) available in Pushshift\n"
     ]
    },
    {
     "name": "stderr",
     "output_type": "stream",
     "text": [
      "Not all PushShift shards are active. Query results may be incomplete.\n",
      "Not all PushShift shards are active. Query results may be incomplete.\n",
      "Not all PushShift shards are active. Query results may be incomplete.\n",
      "Not all PushShift shards are active. Query results may be incomplete.\n",
      "Not all PushShift shards are active. Query results may be incomplete.\n",
      "Not all PushShift shards are active. Query results may be incomplete.\n",
      "Not all PushShift shards are active. Query results may be incomplete.\n",
      "Not all PushShift shards are active. Query results may be incomplete.\n",
      "Not all PushShift shards are active. Query results may be incomplete.\n",
      "Not all PushShift shards are active. Query results may be incomplete.\n",
      "Not all PushShift shards are active. Query results may be incomplete.\n",
      "Not all PushShift shards are active. Query results may be incomplete.\n",
      "Not all PushShift shards are active. Query results may be incomplete.\n",
      "Not all PushShift shards are active. Query results may be incomplete.\n",
      "Not all PushShift shards are active. Query results may be incomplete.\n",
      "Not all PushShift shards are active. Query results may be incomplete.\n",
      "Not all PushShift shards are active. Query results may be incomplete.\n",
      "Not all PushShift shards are active. Query results may be incomplete.\n",
      "Not all PushShift shards are active. Query results may be incomplete.\n",
      "Not all PushShift shards are active. Query results may be incomplete.\n",
      "Not all PushShift shards are active. Query results may be incomplete.\n",
      "Not all PushShift shards are active. Query results may be incomplete.\n",
      "Not all PushShift shards are active. Query results may be incomplete.\n",
      "Not all PushShift shards are active. Query results may be incomplete.\n",
      "Not all PushShift shards are active. Query results may be incomplete.\n",
      "Not all PushShift shards are active. Query results may be incomplete.\n",
      "Not all PushShift shards are active. Query results may be incomplete.\n",
      "Not all PushShift shards are active. Query results may be incomplete.\n",
      "Not all PushShift shards are active. Query results may be incomplete.\n",
      "Not all PushShift shards are active. Query results may be incomplete.\n",
      "Not all PushShift shards are active. Query results may be incomplete.\n"
     ]
    },
    {
     "name": "stdout",
     "output_type": "stream",
     "text": [
      "Total:: Success Rate: 98.32% - Requests: 298 - Batches: 31 - Items Remaining: 8\n",
      "Finishing enrichment for 308 items\n"
     ]
    },
    {
     "name": "stderr",
     "output_type": "stream",
     "text": [
      "Not all PushShift shards are active. Query results may be incomplete.\n"
     ]
    },
    {
     "name": "stdout",
     "output_type": "stream",
     "text": [
      "8 result(s) not found in Pushshift\n",
      "Duration: 0:08:37.269945\n",
      "                                                   Title Score        Publish Date\n",
      "0      Israel's Defense Chief Wants Gazans Jailed as ...     4 2020-01-07 06:47:49\n",
      "1      ट्रंप के महाभियोग पर गवाही देने के लिए तैयार ज...     1 2020-01-07 06:46:35\n",
      "2      अमेरिका-ईरान विवाद के बीच पाकिस्‍तान ने कहा- अ...     1 2020-01-07 06:42:26\n",
      "3      Brazil's Bolsonaro backs Trump amid US-Iran te...     1 2020-01-07 06:41:31\n",
      "4      अमेरिका के रक्षा मंत्री की दो-टूक, इराक से अमे...     1 2020-01-07 06:40:18\n",
      "...                                                  ...   ...                 ...\n",
      "24952  Michael Miguel dice el pueblo dominicano está ...     1 2020-01-31 15:36:28\n",
      "24953  Roster definitivo República Dominicana para Se...     1 2020-01-31 15:36:28\n",
      "24954  Italia declara el estado de emergencia para ev...     1 2020-01-31 15:36:26\n",
      "24955         El Reino Unido hace historia con el Brexit     1 2020-01-31 15:36:25\n",
      "24956               Tony ‘Cabeza’ Fernández está en coma     1 2020-01-31 15:36:23\n",
      "\n",
      "[24957 rows x 3 columns]\n"
     ]
    }
   ],
   "source": [
    "start_time = datetime.now()\n",
    "print('Started at: {}'.format(start_time))\n",
    "\n",
    "submissionsJanuary = api.search_submissions(subreddit=\"worldnews\", after=1577836800, before=1580515200)\n",
    "\n",
    "subStats = {}\n",
    "subData = list()\n",
    "\n",
    "for sub in submissionsJanuary:\n",
    "    subData.append((sub['id'],sub['title'],sub['url'],sub['author'],sub['score'],sub['created']))\n",
    "    subStats[sub['id']] = subData\n",
    "\n",
    "    \n",
    "dfJanuary = pd.DataFrame(columns=['Post ID', 'Title', 'Url', 'Author', 'Score', 'Publish Date', 'Timestamp'])\n",
    "for sub in subData:\n",
    "    created = datetime.fromtimestamp(sub[5]) \n",
    "    new_row = {'Post ID':sub[0], 'Title':sub[1], 'Url':sub[2], 'Author':sub[3], 'Score':sub[4], 'Publish Date':created, 'Timestamp':sub[5]}\n",
    "    dfJanuary = dfJanuary.append(new_row, ignore_index=True)\n",
    "\n",
    "end_time = datetime.now()\n",
    "print('Duration: {}'.format(end_time - start_time))\n",
    "    \n",
    "print(dfJanuary[['Title', 'Score', 'Publish Date']]) "
   ]
  },
  {
   "cell_type": "code",
   "execution_count": 14,
   "id": "f79efd3b",
   "metadata": {},
   "outputs": [
    {
     "name": "stdout",
     "output_type": "stream",
     "text": [
      "Started at: 2021-10-23 01:32:31.842369\n"
     ]
    },
    {
     "name": "stderr",
     "output_type": "stream",
     "text": [
      "Not all PushShift shards are active. Query results may be incomplete.\n"
     ]
    },
    {
     "name": "stdout",
     "output_type": "stream",
     "text": [
      "25456 result(s) available in Pushshift\n"
     ]
    },
    {
     "name": "stderr",
     "output_type": "stream",
     "text": [
      "Not all PushShift shards are active. Query results may be incomplete.\n",
      "Not all PushShift shards are active. Query results may be incomplete.\n",
      "Not all PushShift shards are active. Query results may be incomplete.\n",
      "Not all PushShift shards are active. Query results may be incomplete.\n",
      "Not all PushShift shards are active. Query results may be incomplete.\n",
      "Not all PushShift shards are active. Query results may be incomplete.\n",
      "Not all PushShift shards are active. Query results may be incomplete.\n",
      "Not all PushShift shards are active. Query results may be incomplete.\n",
      "Not all PushShift shards are active. Query results may be incomplete.\n",
      "Not all PushShift shards are active. Query results may be incomplete.\n",
      "Not all PushShift shards are active. Query results may be incomplete.\n",
      "Not all PushShift shards are active. Query results may be incomplete.\n",
      "Not all PushShift shards are active. Query results may be incomplete.\n",
      "Not all PushShift shards are active. Query results may be incomplete.\n",
      "Not all PushShift shards are active. Query results may be incomplete.\n",
      "Not all PushShift shards are active. Query results may be incomplete.\n",
      "Not all PushShift shards are active. Query results may be incomplete.\n",
      "Not all PushShift shards are active. Query results may be incomplete.\n",
      "Not all PushShift shards are active. Query results may be incomplete.\n",
      "Not all PushShift shards are active. Query results may be incomplete.\n",
      "Not all PushShift shards are active. Query results may be incomplete.\n",
      "Not all PushShift shards are active. Query results may be incomplete.\n",
      "Not all PushShift shards are active. Query results may be incomplete.\n",
      "Not all PushShift shards are active. Query results may be incomplete.\n",
      "Not all PushShift shards are active. Query results may be incomplete.\n",
      "Not all PushShift shards are active. Query results may be incomplete.\n",
      "Not all PushShift shards are active. Query results may be incomplete.\n",
      "Not all PushShift shards are active. Query results may be incomplete.\n",
      "Not all PushShift shards are active. Query results may be incomplete.\n",
      "Not all PushShift shards are active. Query results may be incomplete.\n"
     ]
    },
    {
     "name": "stdout",
     "output_type": "stream",
     "text": [
      "Total:: Success Rate: 100.00% - Requests: 299 - Batches: 30 - Items Remaining: 11\n",
      "Finishing enrichment for 317 items\n"
     ]
    },
    {
     "name": "stderr",
     "output_type": "stream",
     "text": [
      "Not all PushShift shards are active. Query results may be incomplete.\n"
     ]
    },
    {
     "name": "stdout",
     "output_type": "stream",
     "text": [
      "11 result(s) not found in Pushshift\n",
      "Duration: 0:09:04.872725\n",
      "                                                   Title Score        Publish Date\n",
      "0      Procure empresas de Telas de Proteção em Curit...     1 2020-02-06 21:11:26\n",
      "1      White House threatens to veto Puerto Rico eart...    10 2020-02-06 21:11:08\n",
      "2                        Jalisco Fiasco Daily 06-02-2020     1 2020-02-06 21:10:08\n",
      "3      Donald Trump, tras su absolución: “Pasé un cal...     1 2020-02-06 21:08:18\n",
      "4      Hospital denies Li Wenliang, doctor who alerte...     8 2020-02-06 21:08:06\n",
      "...                                                  ...   ...                 ...\n",
      "25440                        বে রিসোর্ট | ঢাকা, বাংলাদেশ     1 2020-02-29 11:46:35\n",
      "25441        PSL 5: Multan Sultans loss one wicket early     1 2020-02-29 11:46:22\n",
      "25442           Bill Gates on How to Respond to COVID-19     0 2020-02-29 11:46:04\n",
      "25443  13 rescued, 3 missing after boat 'dump-and-run...     3 2020-02-29 11:43:23\n",
      "25444  Man charged after he allegedly killed woman, m...    17 2020-02-29 11:42:35\n",
      "\n",
      "[25445 rows x 3 columns]\n"
     ]
    }
   ],
   "source": [
    "start_time = datetime.now()\n",
    "print('Started at: {}'.format(start_time))\n",
    "\n",
    "submissionsFebruary = api.search_submissions(subreddit=\"worldnews\", after=1580515200, before=1583020800)\n",
    "\n",
    "subStats = {}\n",
    "subData = list()\n",
    "\n",
    "for sub in submissionsFebruary:\n",
    "    subData.append((sub['id'],sub['title'],sub['url'],sub['author'],sub['score'],sub['created']))\n",
    "    subStats[sub['id']] = subData\n",
    "\n",
    "    \n",
    "dfFebruary = pd.DataFrame(columns=['Post ID', 'Title', 'Url', 'Author', 'Score', 'Publish Date', 'Timestamp'])\n",
    "for sub in subData:\n",
    "    created = datetime.fromtimestamp(sub[5]) \n",
    "    new_row = {'Post ID':sub[0], 'Title':sub[1], 'Url':sub[2], 'Author':sub[3], 'Score':sub[4], 'Publish Date':created, 'Timestamp':sub[5]}\n",
    "    dfFebruary = dfFebruary.append(new_row, ignore_index=True)\n",
    "\n",
    "end_time = datetime.now()\n",
    "print('Duration: {}'.format(end_time - start_time))\n",
    "    \n",
    "print(dfFebruary[['Title', 'Score', 'Publish Date']]) "
   ]
  },
  {
   "cell_type": "code",
   "execution_count": 15,
   "id": "3f002d72",
   "metadata": {},
   "outputs": [
    {
     "name": "stdout",
     "output_type": "stream",
     "text": [
      "Started at: 2021-10-23 01:41:36.759992\n"
     ]
    },
    {
     "name": "stderr",
     "output_type": "stream",
     "text": [
      "Not all PushShift shards are active. Query results may be incomplete.\n"
     ]
    },
    {
     "name": "stdout",
     "output_type": "stream",
     "text": [
      "35059 result(s) available in Pushshift\n"
     ]
    },
    {
     "name": "stderr",
     "output_type": "stream",
     "text": [
      "Not all PushShift shards are active. Query results may be incomplete.\n",
      "Not all PushShift shards are active. Query results may be incomplete.\n",
      "Not all PushShift shards are active. Query results may be incomplete.\n",
      "Not all PushShift shards are active. Query results may be incomplete.\n",
      "Not all PushShift shards are active. Query results may be incomplete.\n",
      "Not all PushShift shards are active. Query results may be incomplete.\n",
      "Not all PushShift shards are active. Query results may be incomplete.\n",
      "Not all PushShift shards are active. Query results may be incomplete.\n",
      "Not all PushShift shards are active. Query results may be incomplete.\n",
      "Not all PushShift shards are active. Query results may be incomplete.\n",
      "Not all PushShift shards are active. Query results may be incomplete.\n",
      "Not all PushShift shards are active. Query results may be incomplete.\n",
      "Not all PushShift shards are active. Query results may be incomplete.\n",
      "Not all PushShift shards are active. Query results may be incomplete.\n",
      "Not all PushShift shards are active. Query results may be incomplete.\n",
      "Not all PushShift shards are active. Query results may be incomplete.\n",
      "Not all PushShift shards are active. Query results may be incomplete.\n",
      "Not all PushShift shards are active. Query results may be incomplete.\n",
      "Not all PushShift shards are active. Query results may be incomplete.\n",
      "Not all PushShift shards are active. Query results may be incomplete.\n",
      "Not all PushShift shards are active. Query results may be incomplete.\n",
      "Not all PushShift shards are active. Query results may be incomplete.\n",
      "Not all PushShift shards are active. Query results may be incomplete.\n",
      "Not all PushShift shards are active. Query results may be incomplete.\n",
      "Not all PushShift shards are active. Query results may be incomplete.\n",
      "Not all PushShift shards are active. Query results may be incomplete.\n",
      "Not all PushShift shards are active. Query results may be incomplete.\n",
      "Not all PushShift shards are active. Query results may be incomplete.\n",
      "Not all PushShift shards are active. Query results may be incomplete.\n",
      "Not all PushShift shards are active. Query results may be incomplete.\n",
      "Not all PushShift shards are active. Query results may be incomplete.\n",
      "Not all PushShift shards are active. Query results may be incomplete.\n",
      "Not all PushShift shards are active. Query results may be incomplete.\n",
      "Not all PushShift shards are active. Query results may be incomplete.\n",
      "Not all PushShift shards are active. Query results may be incomplete.\n",
      "Not all PushShift shards are active. Query results may be incomplete.\n",
      "Not all PushShift shards are active. Query results may be incomplete.\n",
      "Not all PushShift shards are active. Query results may be incomplete.\n",
      "Not all PushShift shards are active. Query results may be incomplete.\n",
      "Not all PushShift shards are active. Query results may be incomplete.\n",
      "Not all PushShift shards are active. Query results may be incomplete.\n",
      "Not all PushShift shards are active. Query results may be incomplete.\n",
      "Not all PushShift shards are active. Query results may be incomplete.\n"
     ]
    },
    {
     "name": "stdout",
     "output_type": "stream",
     "text": [
      "Total:: Success Rate: 99.05% - Requests: 423 - Batches: 43 - Items Remaining: 9\n",
      "Finishing enrichment for 47 items\n"
     ]
    },
    {
     "name": "stderr",
     "output_type": "stream",
     "text": [
      "Not all PushShift shards are active. Query results may be incomplete.\n"
     ]
    },
    {
     "name": "stdout",
     "output_type": "stream",
     "text": [
      "9 result(s) not found in Pushshift\n",
      "Duration: 0:13:57.551668\n",
      "                                                   Title Score        Publish Date\n",
      "0      Why this 11-year-old is getting injections to ...     0 2020-03-04 04:23:16\n",
      "1      East Asian student assaulted in 'racist' coron...     3 2020-03-04 04:21:51\n",
      "2      China Just Outlawed Clickbait and Sensationali...    37 2020-03-04 04:14:40\n",
      "3      Iran military on alert as country’s coronaviru...     1 2020-03-04 04:13:34\n",
      "4                         International Women’s Day 2020     1 2020-03-04 04:13:33\n",
      "...                                                  ...   ...                 ...\n",
      "35045  ترجمة عربية غير رسمية للعبة Star Wars Jedi Fal...     1 2020-03-27 12:41:28\n",
      "35046  هل ستعود Crysis بنسخة محسنة؟ استعراض عضلات لمح...     1 2020-03-27 12:41:28\n",
      "35047  أنباء عن سرقة أكواد من شركة AMD بينها الشيفرة ...     1 2020-03-27 12:41:27\n",
      "35048  How to Record Skype Screen with TheOneSpy Scre...     1 2020-03-27 12:41:19\n",
      "35049  The discovery of multiple lineages of pangolin...     1 2020-03-27 12:38:47\n",
      "\n",
      "[35050 rows x 3 columns]\n"
     ]
    }
   ],
   "source": [
    "start_time = datetime.now()\n",
    "print('Started at: {}'.format(start_time))\n",
    "\n",
    "submissionsMarch = api.search_submissions(subreddit=\"worldnews\", after=1583020800, before=1585699200)\n",
    "\n",
    "subStats = {}\n",
    "subData = list()\n",
    "\n",
    "for sub in submissionsMarch:\n",
    "    subData.append((sub['id'],sub['title'],sub['url'],sub['author'],sub['score'],sub['created']))\n",
    "    subStats[sub['id']] = subData\n",
    "\n",
    "    \n",
    "dfMarch = pd.DataFrame(columns=['Post ID', 'Title', 'Url', 'Author', 'Score', 'Publish Date', 'Timestamp'])\n",
    "for sub in subData:\n",
    "    created = datetime.fromtimestamp(sub[5]) \n",
    "    new_row = {'Post ID':sub[0], 'Title':sub[1], 'Url':sub[2], 'Author':sub[3], 'Score':sub[4], 'Publish Date':created, 'Timestamp':sub[5]}\n",
    "    dfMarch = dfMarch.append(new_row, ignore_index=True)\n",
    "\n",
    "end_time = datetime.now()\n",
    "print('Duration: {}'.format(end_time - start_time))\n",
    "    \n",
    "print(dfMarch[['Title', 'Score', 'Publish Date']]) \n"
   ]
  },
  {
   "cell_type": "code",
   "execution_count": 16,
   "id": "1a221262",
   "metadata": {},
   "outputs": [
    {
     "name": "stdout",
     "output_type": "stream",
     "text": [
      "Started at: 2021-10-23 01:55:34.343064\n"
     ]
    },
    {
     "name": "stderr",
     "output_type": "stream",
     "text": [
      "Not all PushShift shards are active. Query results may be incomplete.\n"
     ]
    },
    {
     "name": "stdout",
     "output_type": "stream",
     "text": [
      "38240 result(s) available in Pushshift\n"
     ]
    },
    {
     "name": "stderr",
     "output_type": "stream",
     "text": [
      "Not all PushShift shards are active. Query results may be incomplete.\n",
      "Not all PushShift shards are active. Query results may be incomplete.\n",
      "Not all PushShift shards are active. Query results may be incomplete.\n",
      "Not all PushShift shards are active. Query results may be incomplete.\n",
      "Not all PushShift shards are active. Query results may be incomplete.\n",
      "Not all PushShift shards are active. Query results may be incomplete.\n",
      "Not all PushShift shards are active. Query results may be incomplete.\n",
      "Not all PushShift shards are active. Query results may be incomplete.\n",
      "Not all PushShift shards are active. Query results may be incomplete.\n",
      "Not all PushShift shards are active. Query results may be incomplete.\n",
      "Not all PushShift shards are active. Query results may be incomplete.\n",
      "Not all PushShift shards are active. Query results may be incomplete.\n",
      "Not all PushShift shards are active. Query results may be incomplete.\n",
      "Not all PushShift shards are active. Query results may be incomplete.\n",
      "Not all PushShift shards are active. Query results may be incomplete.\n",
      "Not all PushShift shards are active. Query results may be incomplete.\n",
      "Not all PushShift shards are active. Query results may be incomplete.\n",
      "Not all PushShift shards are active. Query results may be incomplete.\n",
      "Not all PushShift shards are active. Query results may be incomplete.\n",
      "Not all PushShift shards are active. Query results may be incomplete.\n",
      "Not all PushShift shards are active. Query results may be incomplete.\n",
      "Not all PushShift shards are active. Query results may be incomplete.\n",
      "Not all PushShift shards are active. Query results may be incomplete.\n",
      "Not all PushShift shards are active. Query results may be incomplete.\n",
      "Not all PushShift shards are active. Query results may be incomplete.\n",
      "Not all PushShift shards are active. Query results may be incomplete.\n",
      "Not all PushShift shards are active. Query results may be incomplete.\n",
      "Not all PushShift shards are active. Query results may be incomplete.\n",
      "Not all PushShift shards are active. Query results may be incomplete.\n",
      "Not all PushShift shards are active. Query results may be incomplete.\n",
      "Not all PushShift shards are active. Query results may be incomplete.\n",
      "Not all PushShift shards are active. Query results may be incomplete.\n",
      "Not all PushShift shards are active. Query results may be incomplete.\n",
      "Not all PushShift shards are active. Query results may be incomplete.\n",
      "Not all PushShift shards are active. Query results may be incomplete.\n",
      "Not all PushShift shards are active. Query results may be incomplete.\n",
      "Not all PushShift shards are active. Query results may be incomplete.\n",
      "Not all PushShift shards are active. Query results may be incomplete.\n",
      "Not all PushShift shards are active. Query results may be incomplete.\n",
      "Not all PushShift shards are active. Query results may be incomplete.\n",
      "Not all PushShift shards are active. Query results may be incomplete.\n",
      "Not all PushShift shards are active. Query results may be incomplete.\n",
      "Not all PushShift shards are active. Query results may be incomplete.\n",
      "Not all PushShift shards are active. Query results may be incomplete.\n",
      "Not all PushShift shards are active. Query results may be incomplete.\n",
      "Not all PushShift shards are active. Query results may be incomplete.\n",
      "Not all PushShift shards are active. Query results may be incomplete.\n",
      "Not all PushShift shards are active. Query results may be incomplete.\n",
      "Not all PushShift shards are active. Query results may be incomplete.\n",
      "Not all PushShift shards are active. Query results may be incomplete.\n"
     ]
    },
    {
     "name": "stdout",
     "output_type": "stream",
     "text": [
      "Total:: Success Rate: 94.74% - Requests: 494 - Batches: 50 - Items Remaining: 10\n",
      "Finishing enrichment for 66 items\n"
     ]
    },
    {
     "name": "stderr",
     "output_type": "stream",
     "text": [
      "Not all PushShift shards are active. Query results may be incomplete.\n"
     ]
    },
    {
     "name": "stdout",
     "output_type": "stream",
     "text": [
      "10 result(s) not found in Pushshift\n",
      "Duration: 0:16:36.041525\n",
      "                                                   Title Score        Publish Date\n",
      "0      Phylogenetic network analysis of SARS-CoV-2 ge...     2 2020-04-13 02:58:47\n",
      "1      Oil prices are flat after OPEC and allies agre...     8 2020-04-13 02:57:57\n",
      "2      The Prime Minister of Taiwan Defended Gaming a...     1 2020-04-13 02:56:42\n",
      "3      Administración pública: siguen las guardias mí...     1 2020-04-13 02:56:33\n",
      "4      Turkey sends second batch of medical supplies ...    36 2020-04-13 02:56:19\n",
      "...                                                  ...   ...                 ...\n",
      "38225  Japan preps first subsidy to company moving pr...  1014 2020-04-22 13:19:40\n",
      "38226     This is not the time to ridicule people: Meera     1 2020-04-22 13:19:24\n",
      "38227  Lecithin & Phospholipids Market: COVID-19 Impa...     1 2020-04-22 13:17:59\n",
      "38228  Madagascar president launches coronavirus 'rem...    10 2020-04-22 13:17:54\n",
      "38229  Экс-депутата Тюхтетского райсовета Боготольско...     1 2020-04-22 13:17:51\n",
      "\n",
      "[38230 rows x 3 columns]\n"
     ]
    }
   ],
   "source": [
    "start_time = datetime.now()\n",
    "print('Started at: {}'.format(start_time))\n",
    "\n",
    "submissionsApril = api.search_submissions(subreddit=\"worldnews\", after=1585699200, before=1588291200)\n",
    "\n",
    "subStats = {}\n",
    "subData = list()\n",
    "\n",
    "for sub in submissionsApril:\n",
    "    subData.append((sub['id'],sub['title'],sub['url'],sub['author'],sub['score'],sub['created']))\n",
    "    subStats[sub['id']] = subData\n",
    "\n",
    "    \n",
    "dfApril = pd.DataFrame(columns=['Post ID', 'Title', 'Url', 'Author', 'Score', 'Publish Date', 'Timestamp'])\n",
    "for sub in subData:\n",
    "    created = datetime.fromtimestamp(sub[5]) \n",
    "    new_row = {'Post ID':sub[0], 'Title':sub[1], 'Url':sub[2], 'Author':sub[3], 'Score':sub[4], 'Publish Date':created, 'Timestamp':sub[5]}\n",
    "    dfApril = dfApril.append(new_row, ignore_index=True)\n",
    "\n",
    "end_time = datetime.now()\n",
    "print('Duration: {}'.format(end_time - start_time))\n",
    "    \n",
    "print(dfApril[['Title', 'Score', 'Publish Date']]) "
   ]
  },
  {
   "cell_type": "code",
   "execution_count": 17,
   "id": "1ec51e4c",
   "metadata": {},
   "outputs": [
    {
     "name": "stdout",
     "output_type": "stream",
     "text": [
      "Started at: 2021-10-23 02:12:10.417563\n"
     ]
    },
    {
     "name": "stderr",
     "output_type": "stream",
     "text": [
      "Not all PushShift shards are active. Query results may be incomplete.\n"
     ]
    },
    {
     "name": "stdout",
     "output_type": "stream",
     "text": [
      "27574 result(s) available in Pushshift\n"
     ]
    },
    {
     "name": "stderr",
     "output_type": "stream",
     "text": [
      "Not all PushShift shards are active. Query results may be incomplete.\n",
      "Not all PushShift shards are active. Query results may be incomplete.\n",
      "Not all PushShift shards are active. Query results may be incomplete.\n",
      "Not all PushShift shards are active. Query results may be incomplete.\n",
      "Not all PushShift shards are active. Query results may be incomplete.\n",
      "Not all PushShift shards are active. Query results may be incomplete.\n",
      "Not all PushShift shards are active. Query results may be incomplete.\n",
      "Not all PushShift shards are active. Query results may be incomplete.\n",
      "Not all PushShift shards are active. Query results may be incomplete.\n",
      "Not all PushShift shards are active. Query results may be incomplete.\n",
      "Not all PushShift shards are active. Query results may be incomplete.\n",
      "Not all PushShift shards are active. Query results may be incomplete.\n",
      "Not all PushShift shards are active. Query results may be incomplete.\n",
      "Not all PushShift shards are active. Query results may be incomplete.\n",
      "Not all PushShift shards are active. Query results may be incomplete.\n",
      "Not all PushShift shards are active. Query results may be incomplete.\n",
      "Not all PushShift shards are active. Query results may be incomplete.\n",
      "Not all PushShift shards are active. Query results may be incomplete.\n",
      "Not all PushShift shards are active. Query results may be incomplete.\n",
      "Not all PushShift shards are active. Query results may be incomplete.\n",
      "Not all PushShift shards are active. Query results may be incomplete.\n",
      "Not all PushShift shards are active. Query results may be incomplete.\n",
      "Not all PushShift shards are active. Query results may be incomplete.\n",
      "Not all PushShift shards are active. Query results may be incomplete.\n",
      "Not all PushShift shards are active. Query results may be incomplete.\n",
      "Not all PushShift shards are active. Query results may be incomplete.\n",
      "Not all PushShift shards are active. Query results may be incomplete.\n",
      "Not all PushShift shards are active. Query results may be incomplete.\n",
      "Not all PushShift shards are active. Query results may be incomplete.\n",
      "Not all PushShift shards are active. Query results may be incomplete.\n",
      "Not all PushShift shards are active. Query results may be incomplete.\n",
      "Not all PushShift shards are active. Query results may be incomplete.\n",
      "Not all PushShift shards are active. Query results may be incomplete.\n"
     ]
    },
    {
     "name": "stdout",
     "output_type": "stream",
     "text": [
      "Total:: Success Rate: 99.39% - Requests: 327 - Batches: 33 - Items Remaining: 4\n",
      "Finishing enrichment for 602 items\n"
     ]
    },
    {
     "name": "stderr",
     "output_type": "stream",
     "text": [
      "Not all PushShift shards are active. Query results may be incomplete.\n"
     ]
    },
    {
     "name": "stdout",
     "output_type": "stream",
     "text": [
      "4 result(s) not found in Pushshift\n",
      "Duration: 0:10:41.990100\n",
      "                                                   Title  Score        Publish Date\n",
      "0                         Worldwide Corona Virus Updates      2 2020-05-04 05:22:20\n",
      "1      250 rockets fired at Israel; IDF bombs 120 Gaz...      1 2020-05-04 05:21:36\n",
      "2      Ecuadorian President Lenin declares he is goin...     54 2020-05-04 05:20:18\n",
      "3      'Don't Buy Vegetables From Muslims,' Says BJP ...     12 2020-05-04 05:17:56\n",
      "4      Republicans block resolution to end US support...      1 2020-05-04 05:16:21\n",
      "...                                                  ...    ...                 ...\n",
      "27565  Rare honour killing of schoolgirl in Indonesia...    188 2020-05-31 15:58:26\n",
      "27566  Amnesty International: U.S. police must end mi...  92261 2020-05-31 15:58:22\n",
      "27567  Nigerian doctor recounts how police officers r...      1 2020-05-31 15:58:01\n",
      "27568  Japan aims to reach deal at G20 summit to redu...      1 2020-05-31 15:50:58\n",
      "27569  How Coronavirus jumped from Animals to Humans ...      1 2020-05-31 15:49:42\n",
      "\n",
      "[27570 rows x 3 columns]\n"
     ]
    }
   ],
   "source": [
    "start_time = datetime.now()\n",
    "print('Started at: {}'.format(start_time))\n",
    "\n",
    "submissionsMay = api.search_submissions(subreddit=\"worldnews\", after=1588291200, before=1590969600)\n",
    "\n",
    "subStats = {}\n",
    "subData = list()\n",
    "\n",
    "for sub in submissionsMay:\n",
    "    subData.append((sub['id'],sub['title'],sub['url'],sub['author'],sub['score'],sub['created']))\n",
    "    subStats[sub['id']] = subData\n",
    "\n",
    "    \n",
    "dfMay = pd.DataFrame(columns=['Post ID', 'Title', 'Url', 'Author', 'Score', 'Publish Date', 'Timestamp'])\n",
    "for sub in subData:\n",
    "    created = datetime.fromtimestamp(sub[5]) \n",
    "    new_row = {'Post ID':sub[0], 'Title':sub[1], 'Url':sub[2], 'Author':sub[3], 'Score':sub[4], 'Publish Date':created, 'Timestamp':sub[5]}\n",
    "    dfMay = dfMay.append(new_row, ignore_index=True)\n",
    "\n",
    "end_time = datetime.now()\n",
    "print('Duration: {}'.format(end_time - start_time))\n",
    "    \n",
    "print(dfMay[['Title', 'Score', 'Publish Date']]) "
   ]
  },
  {
   "cell_type": "code",
   "execution_count": 18,
   "id": "e7de86ae",
   "metadata": {},
   "outputs": [
    {
     "name": "stdout",
     "output_type": "stream",
     "text": [
      "Started at: 2021-10-23 02:22:52.438631\n"
     ]
    },
    {
     "name": "stderr",
     "output_type": "stream",
     "text": [
      "Not all PushShift shards are active. Query results may be incomplete.\n"
     ]
    },
    {
     "name": "stdout",
     "output_type": "stream",
     "text": [
      "28228 result(s) available in Pushshift\n"
     ]
    },
    {
     "name": "stderr",
     "output_type": "stream",
     "text": [
      "Not all PushShift shards are active. Query results may be incomplete.\n",
      "Not all PushShift shards are active. Query results may be incomplete.\n",
      "Not all PushShift shards are active. Query results may be incomplete.\n",
      "Not all PushShift shards are active. Query results may be incomplete.\n",
      "Not all PushShift shards are active. Query results may be incomplete.\n",
      "Not all PushShift shards are active. Query results may be incomplete.\n",
      "Not all PushShift shards are active. Query results may be incomplete.\n",
      "Not all PushShift shards are active. Query results may be incomplete.\n",
      "Not all PushShift shards are active. Query results may be incomplete.\n",
      "Not all PushShift shards are active. Query results may be incomplete.\n",
      "Not all PushShift shards are active. Query results may be incomplete.\n",
      "Not all PushShift shards are active. Query results may be incomplete.\n",
      "Not all PushShift shards are active. Query results may be incomplete.\n",
      "Not all PushShift shards are active. Query results may be incomplete.\n",
      "Not all PushShift shards are active. Query results may be incomplete.\n",
      "Not all PushShift shards are active. Query results may be incomplete.\n",
      "Not all PushShift shards are active. Query results may be incomplete.\n",
      "Not all PushShift shards are active. Query results may be incomplete.\n",
      "Not all PushShift shards are active. Query results may be incomplete.\n",
      "Not all PushShift shards are active. Query results may be incomplete.\n",
      "Not all PushShift shards are active. Query results may be incomplete.\n",
      "Not all PushShift shards are active. Query results may be incomplete.\n",
      "Not all PushShift shards are active. Query results may be incomplete.\n",
      "Not all PushShift shards are active. Query results may be incomplete.\n",
      "Not all PushShift shards are active. Query results may be incomplete.\n",
      "Not all PushShift shards are active. Query results may be incomplete.\n",
      "Not all PushShift shards are active. Query results may be incomplete.\n",
      "Not all PushShift shards are active. Query results may be incomplete.\n",
      "Not all PushShift shards are active. Query results may be incomplete.\n",
      "Not all PushShift shards are active. Query results may be incomplete.\n",
      "Not all PushShift shards are active. Query results may be incomplete.\n",
      "Not all PushShift shards are active. Query results may be incomplete.\n",
      "Not all PushShift shards are active. Query results may be incomplete.\n",
      "Not all PushShift shards are active. Query results may be incomplete.\n",
      "Not all PushShift shards are active. Query results may be incomplete.\n"
     ]
    },
    {
     "name": "stdout",
     "output_type": "stream",
     "text": [
      "Total:: Success Rate: 95.99% - Requests: 349 - Batches: 35 - Items Remaining: 6\n",
      "Finishing enrichment for 327 items\n"
     ]
    },
    {
     "name": "stderr",
     "output_type": "stream",
     "text": [
      "Not all PushShift shards are active. Query results may be incomplete.\n"
     ]
    },
    {
     "name": "stdout",
     "output_type": "stream",
     "text": [
      "6 result(s) not found in Pushshift\n",
      "Duration: 0:11:39.706467\n",
      "                                                   Title Score        Publish Date\n",
      "0      Trump Has Gotten China to Lower Its Tariffs. J...     1 2020-06-13 02:57:48\n",
      "1      Iran has asked France to decrypt the black box...    44 2020-06-13 02:57:21\n",
      "2      'Deja Vu' of Iraq War Lies as Mike Pompeo Blam...     1 2020-06-13 02:56:46\n",
      "3      African countries called Friday on the UN Huma...    52 2020-06-13 02:55:26\n",
      "4      A Facebook Inc employee who criticized Chief E...     1 2020-06-13 02:45:40\n",
      "...                                                  ...   ...                 ...\n",
      "28217  Second wave of corona is about to hit hard!! S...     1 2020-06-30 15:03:48\n",
      "28218  Hong Kong Disneyland Accepting Payments in Joh...     1 2020-06-30 15:03:23\n",
      "28219  Surf photography: an unusual and heartfelt bea...     1 2020-06-30 15:03:11\n",
      "28220  Hong Kong protests: student jailed for 10 mont...    24 2020-06-30 15:01:44\n",
      "28221        This is How China Forming Oil Buying Cartel     1 2020-06-30 15:01:26\n",
      "\n",
      "[28222 rows x 3 columns]\n"
     ]
    }
   ],
   "source": [
    "start_time = datetime.now()\n",
    "print('Started at: {}'.format(start_time))\n",
    "\n",
    "submissionsJune = api.search_submissions(subreddit=\"worldnews\", after=1590969600, before=1593561600)\n",
    "\n",
    "subStats = {}\n",
    "subData = list()\n",
    "\n",
    "for sub in submissionsJune:\n",
    "    subData.append((sub['id'],sub['title'],sub['url'],sub['author'],sub['score'],sub['created']))\n",
    "    subStats[sub['id']] = subData\n",
    "\n",
    "    \n",
    "dfJune = pd.DataFrame(columns=['Post ID', 'Title', 'Url', 'Author', 'Score', 'Publish Date', 'Timestamp'])\n",
    "for sub in subData:\n",
    "    created = datetime.fromtimestamp(sub[5]) \n",
    "    new_row = {'Post ID':sub[0], 'Title':sub[1], 'Url':sub[2], 'Author':sub[3], 'Score':sub[4], 'Publish Date':created, 'Timestamp':sub[5]}\n",
    "    dfJune = dfJune.append(new_row, ignore_index=True)\n",
    "\n",
    "end_time = datetime.now()\n",
    "print('Duration: {}'.format(end_time - start_time))\n",
    "    \n",
    "print(dfJune[['Title', 'Score', 'Publish Date']]) "
   ]
  },
  {
   "cell_type": "code",
   "execution_count": 19,
   "id": "6248fa4f",
   "metadata": {},
   "outputs": [
    {
     "name": "stdout",
     "output_type": "stream",
     "text": [
      "Started at: 2021-10-23 02:34:32.176729\n"
     ]
    },
    {
     "name": "stderr",
     "output_type": "stream",
     "text": [
      "Not all PushShift shards are active. Query results may be incomplete.\n"
     ]
    },
    {
     "name": "stdout",
     "output_type": "stream",
     "text": [
      "36179 result(s) available in Pushshift\n"
     ]
    },
    {
     "name": "stderr",
     "output_type": "stream",
     "text": [
      "Not all PushShift shards are active. Query results may be incomplete.\n",
      "Not all PushShift shards are active. Query results may be incomplete.\n",
      "Not all PushShift shards are active. Query results may be incomplete.\n",
      "Not all PushShift shards are active. Query results may be incomplete.\n",
      "Not all PushShift shards are active. Query results may be incomplete.\n",
      "Not all PushShift shards are active. Query results may be incomplete.\n",
      "Not all PushShift shards are active. Query results may be incomplete.\n",
      "Not all PushShift shards are active. Query results may be incomplete.\n",
      "Not all PushShift shards are active. Query results may be incomplete.\n",
      "Not all PushShift shards are active. Query results may be incomplete.\n",
      "Not all PushShift shards are active. Query results may be incomplete.\n",
      "Not all PushShift shards are active. Query results may be incomplete.\n",
      "Not all PushShift shards are active. Query results may be incomplete.\n",
      "Not all PushShift shards are active. Query results may be incomplete.\n",
      "Not all PushShift shards are active. Query results may be incomplete.\n",
      "Not all PushShift shards are active. Query results may be incomplete.\n",
      "Not all PushShift shards are active. Query results may be incomplete.\n",
      "Not all PushShift shards are active. Query results may be incomplete.\n",
      "Not all PushShift shards are active. Query results may be incomplete.\n",
      "Not all PushShift shards are active. Query results may be incomplete.\n",
      "Not all PushShift shards are active. Query results may be incomplete.\n",
      "Not all PushShift shards are active. Query results may be incomplete.\n",
      "Not all PushShift shards are active. Query results may be incomplete.\n",
      "Not all PushShift shards are active. Query results may be incomplete.\n",
      "Not all PushShift shards are active. Query results may be incomplete.\n",
      "Not all PushShift shards are active. Query results may be incomplete.\n",
      "Not all PushShift shards are active. Query results may be incomplete.\n",
      "Not all PushShift shards are active. Query results may be incomplete.\n",
      "Not all PushShift shards are active. Query results may be incomplete.\n",
      "Not all PushShift shards are active. Query results may be incomplete.\n",
      "Not all PushShift shards are active. Query results may be incomplete.\n",
      "Not all PushShift shards are active. Query results may be incomplete.\n",
      "Not all PushShift shards are active. Query results may be incomplete.\n",
      "Not all PushShift shards are active. Query results may be incomplete.\n",
      "Not all PushShift shards are active. Query results may be incomplete.\n",
      "Not all PushShift shards are active. Query results may be incomplete.\n",
      "Not all PushShift shards are active. Query results may be incomplete.\n",
      "Not all PushShift shards are active. Query results may be incomplete.\n",
      "Not all PushShift shards are active. Query results may be incomplete.\n",
      "Not all PushShift shards are active. Query results may be incomplete.\n",
      "Not all PushShift shards are active. Query results may be incomplete.\n",
      "Not all PushShift shards are active. Query results may be incomplete.\n",
      "Not all PushShift shards are active. Query results may be incomplete.\n",
      "Not all PushShift shards are active. Query results may be incomplete.\n",
      "Not all PushShift shards are active. Query results may be incomplete.\n",
      "Not all PushShift shards are active. Query results may be incomplete.\n",
      "Not all PushShift shards are active. Query results may be incomplete.\n"
     ]
    },
    {
     "name": "stdout",
     "output_type": "stream",
     "text": [
      "Total:: Success Rate: 94.57% - Requests: 460 - Batches: 46 - Items Remaining: 18\n",
      "Finishing enrichment for 158 items\n",
      "8 result(s) not found in Pushshift\n"
     ]
    },
    {
     "name": "stderr",
     "output_type": "stream",
     "text": [
      "Not all PushShift shards are active. Query results may be incomplete.\n",
      "Not all PushShift shards are active. Query results may be incomplete.\n",
      "Not all PushShift shards are active. Query results may be incomplete.\n",
      "Not all PushShift shards are active. Query results may be incomplete.\n"
     ]
    },
    {
     "name": "stdout",
     "output_type": "stream",
     "text": [
      "Total:: Success Rate: 94.17% - Requests: 463 - Batches: 49 - Items Remaining: 10\n",
      "Finishing enrichment for 158 items\n",
      "10 result(s) not found in Pushshift\n",
      "Duration: 0:15:52.887729\n",
      "                                                   Title Score        Publish Date\n",
      "0      Shop Vendor in Dubai Plant Camera in Toilet to...     8 2020-07-22 19:47:58\n",
      "1      Sylenth1 3.067 Crack With Registration Number ...     1 2020-07-22 19:46:28\n",
      "2      Female leaders have been better at tackling Co...    14 2020-07-22 19:45:50\n",
      "3      Sylenth1 3.067 Crack Product Number Free Downl...     1 2020-07-22 19:44:53\n",
      "4                               How to make a snowflakes     1 2020-07-22 19:44:12\n",
      "...                                                  ...   ...                 ...\n",
      "36156  GOOgul Namibia: Fishrot #Lawyer #Claims Murder...     1 2020-07-31 16:36:29\n",
      "36157  GOOgul #Insurance Journal Announces Free #Insu...     1 2020-07-31 16:36:28\n",
      "36158  googul Breaking down our preseason Big Ten #Fo...     1 2020-07-31 16:36:27\n",
      "36159  Concern as Hong Kong postpones elections for o...    35 2020-07-31 16:35:58\n",
      "36160  Ghislaine Maxwell trained underage girls as se...  1470 2020-07-31 16:34:52\n",
      "\n",
      "[36161 rows x 3 columns]\n"
     ]
    }
   ],
   "source": [
    "start_time = datetime.now()\n",
    "print('Started at: {}'.format(start_time))\n",
    "\n",
    "submissionsJuly = api.search_submissions(subreddit=\"worldnews\", after=1593561600, before=1596240000)\n",
    "\n",
    "subStats = {}\n",
    "subData = list()\n",
    "\n",
    "for sub in submissionsJuly:\n",
    "    subData.append((sub['id'],sub['title'],sub['url'],sub['author'],sub['score'],sub['created']))\n",
    "    subStats[sub['id']] = subData\n",
    "\n",
    "    \n",
    "dfJuly = pd.DataFrame(columns=['Post ID', 'Title', 'Url', 'Author', 'Score', 'Publish Date', 'Timestamp'])\n",
    "for sub in subData:\n",
    "    created = datetime.fromtimestamp(sub[5]) \n",
    "    new_row = {'Post ID':sub[0], 'Title':sub[1], 'Url':sub[2], 'Author':sub[3], 'Score':sub[4], 'Publish Date':created, 'Timestamp':sub[5]}\n",
    "    dfJuly = dfJuly.append(new_row, ignore_index=True)\n",
    "\n",
    "end_time = datetime.now()\n",
    "print('Duration: {}'.format(end_time - start_time))\n",
    "    \n",
    "print(dfJuly[['Title', 'Score', 'Publish Date']]) "
   ]
  },
  {
   "cell_type": "code",
   "execution_count": 20,
   "id": "8cdb5f13",
   "metadata": {},
   "outputs": [
    {
     "name": "stdout",
     "output_type": "stream",
     "text": [
      "Started at: 2021-10-23 02:50:25.135523\n"
     ]
    },
    {
     "name": "stderr",
     "output_type": "stream",
     "text": [
      "Not all PushShift shards are active. Query results may be incomplete.\n"
     ]
    },
    {
     "name": "stdout",
     "output_type": "stream",
     "text": [
      "35464 result(s) available in Pushshift\n"
     ]
    },
    {
     "name": "stderr",
     "output_type": "stream",
     "text": [
      "Not all PushShift shards are active. Query results may be incomplete.\n",
      "Not all PushShift shards are active. Query results may be incomplete.\n",
      "Not all PushShift shards are active. Query results may be incomplete.\n",
      "Not all PushShift shards are active. Query results may be incomplete.\n",
      "Not all PushShift shards are active. Query results may be incomplete.\n",
      "Not all PushShift shards are active. Query results may be incomplete.\n",
      "Not all PushShift shards are active. Query results may be incomplete.\n",
      "Not all PushShift shards are active. Query results may be incomplete.\n",
      "Not all PushShift shards are active. Query results may be incomplete.\n",
      "Not all PushShift shards are active. Query results may be incomplete.\n",
      "Not all PushShift shards are active. Query results may be incomplete.\n",
      "Not all PushShift shards are active. Query results may be incomplete.\n",
      "Not all PushShift shards are active. Query results may be incomplete.\n",
      "Not all PushShift shards are active. Query results may be incomplete.\n",
      "Not all PushShift shards are active. Query results may be incomplete.\n",
      "Not all PushShift shards are active. Query results may be incomplete.\n",
      "Not all PushShift shards are active. Query results may be incomplete.\n",
      "Not all PushShift shards are active. Query results may be incomplete.\n",
      "Not all PushShift shards are active. Query results may be incomplete.\n",
      "Not all PushShift shards are active. Query results may be incomplete.\n",
      "Not all PushShift shards are active. Query results may be incomplete.\n",
      "Not all PushShift shards are active. Query results may be incomplete.\n",
      "Not all PushShift shards are active. Query results may be incomplete.\n",
      "Not all PushShift shards are active. Query results may be incomplete.\n",
      "Not all PushShift shards are active. Query results may be incomplete.\n",
      "Not all PushShift shards are active. Query results may be incomplete.\n",
      "Not all PushShift shards are active. Query results may be incomplete.\n",
      "Not all PushShift shards are active. Query results may be incomplete.\n",
      "Not all PushShift shards are active. Query results may be incomplete.\n",
      "Not all PushShift shards are active. Query results may be incomplete.\n",
      "Not all PushShift shards are active. Query results may be incomplete.\n",
      "Not all PushShift shards are active. Query results may be incomplete.\n",
      "Not all PushShift shards are active. Query results may be incomplete.\n",
      "Not all PushShift shards are active. Query results may be incomplete.\n",
      "Not all PushShift shards are active. Query results may be incomplete.\n",
      "Not all PushShift shards are active. Query results may be incomplete.\n",
      "Not all PushShift shards are active. Query results may be incomplete.\n",
      "Not all PushShift shards are active. Query results may be incomplete.\n",
      "Not all PushShift shards are active. Query results may be incomplete.\n",
      "Not all PushShift shards are active. Query results may be incomplete.\n",
      "Not all PushShift shards are active. Query results may be incomplete.\n",
      "Not all PushShift shards are active. Query results may be incomplete.\n",
      "Not all PushShift shards are active. Query results may be incomplete.\n",
      "Not all PushShift shards are active. Query results may be incomplete.\n",
      "Not all PushShift shards are active. Query results may be incomplete.\n",
      "Not all PushShift shards are active. Query results may be incomplete.\n",
      "Not all PushShift shards are active. Query results may be incomplete.\n",
      "Not all PushShift shards are active. Query results may be incomplete.\n"
     ]
    },
    {
     "name": "stdout",
     "output_type": "stream",
     "text": [
      "Total:: Success Rate: 93.17% - Requests: 454 - Batches: 48 - Items Remaining: 12\n",
      "Finishing enrichment for 7 items\n"
     ]
    },
    {
     "name": "stderr",
     "output_type": "stream",
     "text": [
      "Not all PushShift shards are active. Query results may be incomplete.\n"
     ]
    },
    {
     "name": "stdout",
     "output_type": "stream",
     "text": [
      "12 result(s) not found in Pushshift\n",
      "Duration: 0:15:35.369495\n",
      "                                                   Title Score        Publish Date\n",
      "0      Grey's Anatomy's Camilla Luddington And Matthe...     1 2020-08-25 22:09:24\n",
      "1                                      Teknik SEO Newbie     1 2020-08-25 22:07:06\n",
      "2      French minister defends 'precious' topless rig...   127 2020-08-25 22:06:25\n",
      "3      Grey's Anatomy's Camilla Luddington And Matthe...     1 2020-08-25 22:05:45\n",
      "4      Not Deadly Enough For Our Purposes :\"Health Em...     1 2020-08-25 22:05:06\n",
      "...                                                  ...   ...                 ...\n",
      "35447  googul Pompeo Says #Claim Floyd Protests Weake...     1 2020-08-13 12:36:26\n",
      "35448  googul #Football transfer rumours: Ousmane Dem...     1 2020-08-13 12:36:25\n",
      "35449  googul Tammy Bruce: Dems' 'rules' to media on ...     1 2020-08-13 12:36:24\n",
      "35450  googul California’s crusade against the gig ec...     1 2020-08-13 12:36:23\n",
      "35451  GOOgul We#Chat-owner shrugs-off Trump's propos...     1 2020-08-13 12:36:21\n",
      "\n",
      "[35452 rows x 3 columns]\n"
     ]
    }
   ],
   "source": [
    "start_time = datetime.now()\n",
    "print('Started at: {}'.format(start_time))\n",
    "\n",
    "submissionsAugust = api.search_submissions(subreddit=\"worldnews\", after=1596240000, before=1598918400)\n",
    "\n",
    "subStats = {}\n",
    "subData = list()\n",
    "\n",
    "for sub in submissionsAugust:\n",
    "    subData.append((sub['id'],sub['title'],sub['url'],sub['author'],sub['score'],sub['created']))\n",
    "    subStats[sub['id']] = subData\n",
    "\n",
    "    \n",
    "dfAugust = pd.DataFrame(columns=['Post ID', 'Title', 'Url', 'Author', 'Score', 'Publish Date', 'Timestamp'])\n",
    "for sub in subData:\n",
    "    created = datetime.fromtimestamp(sub[5]) \n",
    "    new_row = {'Post ID':sub[0], 'Title':sub[1], 'Url':sub[2], 'Author':sub[3], 'Score':sub[4], 'Publish Date':created, 'Timestamp':sub[5]}\n",
    "    dfAugust = dfAugust.append(new_row, ignore_index=True)\n",
    "\n",
    "end_time = datetime.now()\n",
    "print('Duration: {}'.format(end_time - start_time))\n",
    "    \n",
    "print(dfAugust[['Title', 'Score', 'Publish Date']]) "
   ]
  },
  {
   "cell_type": "code",
   "execution_count": 21,
   "id": "45270328",
   "metadata": {},
   "outputs": [
    {
     "name": "stdout",
     "output_type": "stream",
     "text": [
      "Started at: 2021-10-23 03:06:00.539098\n"
     ]
    },
    {
     "name": "stderr",
     "output_type": "stream",
     "text": [
      "Not all PushShift shards are active. Query results may be incomplete.\n"
     ]
    },
    {
     "name": "stdout",
     "output_type": "stream",
     "text": [
      "26667 result(s) available in Pushshift\n"
     ]
    },
    {
     "name": "stderr",
     "output_type": "stream",
     "text": [
      "Not all PushShift shards are active. Query results may be incomplete.\n",
      "Not all PushShift shards are active. Query results may be incomplete.\n",
      "Not all PushShift shards are active. Query results may be incomplete.\n",
      "Not all PushShift shards are active. Query results may be incomplete.\n",
      "Not all PushShift shards are active. Query results may be incomplete.\n",
      "Not all PushShift shards are active. Query results may be incomplete.\n",
      "Not all PushShift shards are active. Query results may be incomplete.\n",
      "Not all PushShift shards are active. Query results may be incomplete.\n",
      "Not all PushShift shards are active. Query results may be incomplete.\n",
      "Not all PushShift shards are active. Query results may be incomplete.\n",
      "Not all PushShift shards are active. Query results may be incomplete.\n",
      "Not all PushShift shards are active. Query results may be incomplete.\n",
      "Not all PushShift shards are active. Query results may be incomplete.\n",
      "Not all PushShift shards are active. Query results may be incomplete.\n",
      "Not all PushShift shards are active. Query results may be incomplete.\n",
      "Not all PushShift shards are active. Query results may be incomplete.\n",
      "Not all PushShift shards are active. Query results may be incomplete.\n",
      "Not all PushShift shards are active. Query results may be incomplete.\n",
      "Not all PushShift shards are active. Query results may be incomplete.\n",
      "Not all PushShift shards are active. Query results may be incomplete.\n",
      "Not all PushShift shards are active. Query results may be incomplete.\n",
      "Not all PushShift shards are active. Query results may be incomplete.\n",
      "Not all PushShift shards are active. Query results may be incomplete.\n",
      "Not all PushShift shards are active. Query results may be incomplete.\n",
      "Not all PushShift shards are active. Query results may be incomplete.\n",
      "Not all PushShift shards are active. Query results may be incomplete.\n",
      "Not all PushShift shards are active. Query results may be incomplete.\n",
      "Not all PushShift shards are active. Query results may be incomplete.\n",
      "Not all PushShift shards are active. Query results may be incomplete.\n",
      "Not all PushShift shards are active. Query results may be incomplete.\n",
      "Not all PushShift shards are active. Query results may be incomplete.\n",
      "Not all PushShift shards are active. Query results may be incomplete.\n"
     ]
    },
    {
     "name": "stdout",
     "output_type": "stream",
     "text": [
      "Total:: Success Rate: 98.43% - Requests: 318 - Batches: 32 - Items Remaining: 11\n",
      "Finishing enrichment for 279 items\n"
     ]
    },
    {
     "name": "stderr",
     "output_type": "stream",
     "text": [
      "Not all PushShift shards are active. Query results may be incomplete.\n"
     ]
    },
    {
     "name": "stdout",
     "output_type": "stream",
     "text": [
      "11 result(s) not found in Pushshift\n",
      "Duration: 0:10:21.997641\n",
      "                                                   Title Score        Publish Date\n",
      "0      Daughters sue Calgary care facility after moth...     2 2020-09-19 02:59:40\n",
      "1      Trump announces $13 billion in aid for Puerto ...    39 2020-09-19 02:59:39\n",
      "2      Supreme Court Justice Ruth Bader Ginsburg dies...     1 2020-09-19 02:58:55\n",
      "3      U.S. Supreme Court Justice Ruth Bader Ginsburg...     1 2020-09-19 02:58:48\n",
      "4      Coronavirus: what Israel's second lockdown fee...     1 2020-09-19 02:58:42\n",
      "...                                                  ...   ...                 ...\n",
      "26651  Qué ver el miércoles: American Murder: The Fam...     1 2020-09-30 11:31:41\n",
      "26652  El negocio de asistentes de voz y dispositivos...     1 2020-09-30 11:31:41\n",
      "26653  Perspectiva | Chris Wallace intentó, y falló, ...     1 2020-09-30 11:31:40\n",
      "26654  La actividad manufacturera de China se expandi...     1 2020-09-30 11:31:39\n",
      "26655  Indian court acquits all accused in Babri mosq...    30 2020-09-30 11:27:29\n",
      "\n",
      "[26656 rows x 3 columns]\n"
     ]
    }
   ],
   "source": [
    "start_time = datetime.now()\n",
    "print('Started at: {}'.format(start_time))\n",
    "\n",
    "submissionsSeptember = api.search_submissions(subreddit=\"worldnews\", after=1598918400, before=1601510400)\n",
    "\n",
    "subStats = {}\n",
    "subData = list()\n",
    "\n",
    "for sub in submissionsSeptember:\n",
    "    subData.append((sub['id'],sub['title'],sub['url'],sub['author'],sub['score'],sub['created']))\n",
    "    subStats[sub['id']] = subData\n",
    "\n",
    "    \n",
    "dfSeptember = pd.DataFrame(columns=['Post ID', 'Title', 'Url', 'Author', 'Score', 'Publish Date', 'Timestamp'])\n",
    "for sub in subData:\n",
    "    created = datetime.fromtimestamp(sub[5]) \n",
    "    new_row = {'Post ID':sub[0], 'Title':sub[1], 'Url':sub[2], 'Author':sub[3], 'Score':sub[4], 'Publish Date':created, 'Timestamp':sub[5]}\n",
    "    dfSeptember = dfSeptember.append(new_row, ignore_index=True)\n",
    "\n",
    "end_time = datetime.now()\n",
    "print('Duration: {}'.format(end_time - start_time))\n",
    "    \n",
    "print(dfSeptember[['Title', 'Score', 'Publish Date']]) "
   ]
  },
  {
   "cell_type": "code",
   "execution_count": 22,
   "id": "f5379b80",
   "metadata": {},
   "outputs": [
    {
     "name": "stdout",
     "output_type": "stream",
     "text": [
      "Started at: 2021-10-23 03:16:22.566235\n"
     ]
    },
    {
     "name": "stderr",
     "output_type": "stream",
     "text": [
      "Not all PushShift shards are active. Query results may be incomplete.\n"
     ]
    },
    {
     "name": "stdout",
     "output_type": "stream",
     "text": [
      "23407 result(s) available in Pushshift\n"
     ]
    },
    {
     "name": "stderr",
     "output_type": "stream",
     "text": [
      "Not all PushShift shards are active. Query results may be incomplete.\n",
      "Not all PushShift shards are active. Query results may be incomplete.\n",
      "Not all PushShift shards are active. Query results may be incomplete.\n",
      "Not all PushShift shards are active. Query results may be incomplete.\n",
      "Not all PushShift shards are active. Query results may be incomplete.\n",
      "Not all PushShift shards are active. Query results may be incomplete.\n",
      "Not all PushShift shards are active. Query results may be incomplete.\n",
      "Not all PushShift shards are active. Query results may be incomplete.\n",
      "Not all PushShift shards are active. Query results may be incomplete.\n",
      "Not all PushShift shards are active. Query results may be incomplete.\n",
      "Not all PushShift shards are active. Query results may be incomplete.\n",
      "Not all PushShift shards are active. Query results may be incomplete.\n",
      "Not all PushShift shards are active. Query results may be incomplete.\n",
      "Not all PushShift shards are active. Query results may be incomplete.\n",
      "Not all PushShift shards are active. Query results may be incomplete.\n",
      "Not all PushShift shards are active. Query results may be incomplete.\n",
      "Not all PushShift shards are active. Query results may be incomplete.\n",
      "Not all PushShift shards are active. Query results may be incomplete.\n",
      "Not all PushShift shards are active. Query results may be incomplete.\n",
      "Not all PushShift shards are active. Query results may be incomplete.\n",
      "Not all PushShift shards are active. Query results may be incomplete.\n",
      "Not all PushShift shards are active. Query results may be incomplete.\n",
      "Not all PushShift shards are active. Query results may be incomplete.\n",
      "Not all PushShift shards are active. Query results may be incomplete.\n",
      "Not all PushShift shards are active. Query results may be incomplete.\n",
      "Not all PushShift shards are active. Query results may be incomplete.\n",
      "Not all PushShift shards are active. Query results may be incomplete.\n",
      "Not all PushShift shards are active. Query results may be incomplete.\n"
     ]
    },
    {
     "name": "stdout",
     "output_type": "stream",
     "text": [
      "Total:: Success Rate: 100.00% - Requests: 277 - Batches: 28 - Items Remaining: 5\n",
      "Finishing enrichment for 247 items\n"
     ]
    },
    {
     "name": "stderr",
     "output_type": "stream",
     "text": [
      "Not all PushShift shards are active. Query results may be incomplete.\n"
     ]
    },
    {
     "name": "stdout",
     "output_type": "stream",
     "text": [
      "5 result(s) not found in Pushshift\n",
      "Duration: 0:08:40.608411\n",
      "                                                   Title Score        Publish Date\n",
      "0      Trump says he is 'starting to feel good' after...     1 2020-10-04 05:13:45\n",
      "1      Trump’s treatments are aimed at preventing sev...     1 2020-10-04 05:13:44\n",
      "2      Mark McGowan’s hard border closures in ‘clear ...     1 2020-10-04 05:13:43\n",
      "3      ‘Vicious vile hate speech’: All the worst reac...     1 2020-10-04 05:13:43\n",
      "4      US Coast Guard Offloads Over Two Tons of Cocai...     1 2020-10-04 05:13:42\n",
      "...                                                  ...   ...                 ...\n",
      "23397  Yorkie's death at airport facility fuels legal...     1 2020-10-02 06:00:11\n",
      "23398  President Trump says he and his wife will quar...     2 2020-10-02 05:59:36\n",
      "23399     Chinese vlogger set on fire during live stream     6 2020-10-02 05:59:29\n",
      "23400  Trump condemns white supremacist groups 48 hou...     1 2020-10-02 05:53:13\n",
      "23401  Pete Wilson endorses Trump, says president has...     1 2020-10-02 05:53:12\n",
      "\n",
      "[23402 rows x 3 columns]\n"
     ]
    }
   ],
   "source": [
    "start_time = datetime.now()\n",
    "print('Started at: {}'.format(start_time))\n",
    "\n",
    "submissionsOctober = api.search_submissions(subreddit=\"worldnews\", after=1601510400, before=1604188800)\n",
    "\n",
    "subStats = {}\n",
    "subData = list()\n",
    "\n",
    "for sub in submissionsOctober:\n",
    "    subData.append((sub['id'],sub['title'],sub['url'],sub['author'],sub['score'],sub['created']))\n",
    "    subStats[sub['id']] = subData\n",
    "\n",
    "    \n",
    "dfOctober = pd.DataFrame(columns=['Post ID', 'Title', 'Url', 'Author', 'Score', 'Publish Date', 'Timestamp'])\n",
    "for sub in subData:\n",
    "    created = datetime.fromtimestamp(sub[5]) \n",
    "    new_row = {'Post ID':sub[0], 'Title':sub[1], 'Url':sub[2], 'Author':sub[3], 'Score':sub[4], 'Publish Date':created, 'Timestamp':sub[5]}\n",
    "    dfOctober = dfOctober.append(new_row, ignore_index=True)\n",
    "\n",
    "end_time = datetime.now()\n",
    "print('Duration: {}'.format(end_time - start_time))\n",
    "    \n",
    "print(dfOctober[['Title', 'Score', 'Publish Date']]) "
   ]
  },
  {
   "cell_type": "code",
   "execution_count": 23,
   "id": "acd61c9a",
   "metadata": {},
   "outputs": [
    {
     "name": "stdout",
     "output_type": "stream",
     "text": [
      "Started at: 2021-10-23 03:25:03.204235\n"
     ]
    },
    {
     "name": "stderr",
     "output_type": "stream",
     "text": [
      "Not all PushShift shards are active. Query results may be incomplete.\n"
     ]
    },
    {
     "name": "stdout",
     "output_type": "stream",
     "text": [
      "33059 result(s) available in Pushshift\n"
     ]
    },
    {
     "name": "stderr",
     "output_type": "stream",
     "text": [
      "Not all PushShift shards are active. Query results may be incomplete.\n",
      "Not all PushShift shards are active. Query results may be incomplete.\n",
      "Not all PushShift shards are active. Query results may be incomplete.\n",
      "Not all PushShift shards are active. Query results may be incomplete.\n",
      "Not all PushShift shards are active. Query results may be incomplete.\n",
      "Not all PushShift shards are active. Query results may be incomplete.\n"
     ]
    },
    {
     "name": "stdout",
     "output_type": "stream",
     "text": [
      "Total:: Success Rate: 99.25% - Requests: 402 - Batches: 41 - Items Remaining: 10\n",
      "Finishing enrichment for 46 items\n",
      "10 result(s) not found in Pushshift\n",
      "Duration: 0:13:49.390340\n",
      "                                                   Title Score        Publish Date\n",
      "0      Ugandan presidential candidate Bobi Wine arres...     1 2020-11-19 01:58:26\n",
      "1      Foreign ministers of 'Five Eyes' alliance expr...    10 2020-11-19 01:57:28\n",
      "2      Canada's opposition parties urge Trudeau gover...    21 2020-11-19 01:56:34\n",
      "3      Covid: US records quarter of a million deaths ...   284 2020-11-19 01:55:52\n",
      "4      UK to announce biggest investment in defence s...     5 2020-11-19 01:55:26\n",
      "...                                                  ...   ...                 ...\n",
      "33044                Football legend Diego Maradona dies     2 2020-11-25 18:23:52\n",
      "33045  AfDB reassigns four personnel across key manag...     1 2020-11-25 18:23:47\n",
      "33046  Justin Trudeau tricked by Russian comics posin...     1 2020-11-25 18:23:22\n",
      "33047  Iran diplomat on trial over plot to bomb oppon...    50 2020-11-25 18:22:58\n",
      "33048  Diego Maradona, Argentine Footballing Legend, ...     7 2020-11-25 18:22:44\n",
      "\n",
      "[33049 rows x 3 columns]\n"
     ]
    }
   ],
   "source": [
    "start_time = datetime.now()\n",
    "print('Started at: {}'.format(start_time))\n",
    "\n",
    "submissionsNovember = api.search_submissions(subreddit=\"worldnews\", after=1604188800, before=1606780800)\n",
    "\n",
    "subStats = {}\n",
    "subData = list()\n",
    "\n",
    "for sub in submissionsNovember:\n",
    "    subData.append((sub['id'],sub['title'],sub['url'],sub['author'],sub['score'],sub['created']))\n",
    "    subStats[sub['id']] = subData\n",
    "\n",
    "    \n",
    "dfNovember = pd.DataFrame(columns=['Post ID', 'Title', 'Url', 'Author', 'Score', 'Publish Date', 'Timestamp'])\n",
    "for sub in subData:\n",
    "    created = datetime.fromtimestamp(sub[5]) \n",
    "    new_row = {'Post ID':sub[0], 'Title':sub[1], 'Url':sub[2], 'Author':sub[3], 'Score':sub[4], 'Publish Date':created, 'Timestamp':sub[5]}\n",
    "    dfNovember = dfNovember.append(new_row, ignore_index=True)\n",
    "\n",
    "end_time = datetime.now()\n",
    "print('Duration: {}'.format(end_time - start_time))\n",
    "    \n",
    "print(dfNovember[['Title', 'Score', 'Publish Date']]) "
   ]
  },
  {
   "cell_type": "code",
   "execution_count": 24,
   "id": "7044bf77",
   "metadata": {},
   "outputs": [
    {
     "name": "stdout",
     "output_type": "stream",
     "text": [
      "Started at: 2021-10-23 03:38:52.630887\n",
      "38432 result(s) available in Pushshift\n",
      "Total:: Success Rate: 96.07% - Requests: 484 - Batches: 49 - Items Remaining: 11\n",
      "Finishing enrichment for 65 items\n",
      "11 result(s) not found in Pushshift\n",
      "Duration: 0:17:42.738744\n",
      "                                                   Title Score        Publish Date\n",
      "0      Britain gets ready for rollout of Pfizer's COV...    29 2020-12-07 06:46:05\n",
      "1      Pak Christian girl killed for rejecting Muslim...    60 2020-12-07 06:45:38\n",
      "2      NBA players are prohibited from going to bars ...     1 2020-12-07 06:43:36\n",
      "3      DxO PhotoLab 4.0.2 Crack Activation Code Free ...     1 2020-12-07 06:43:04\n",
      "4      DxO PhotoLab Elite 4.0.2 Crack Activation Code...     1 2020-12-07 06:42:18\n",
      "...                                                  ...   ...                 ...\n",
      "38416  https://t.co/XdZ9JzJoeh https://t.co/l7wR2hfUR...     1 2020-12-30 11:38:11\n",
      "38417  soái ca là gì https://t.co/XdZ9JzrMPH https://...     1 2020-12-30 11:38:10\n",
      "38418  tìm hiểu anime là gì tại https://t.co/hlne1SJB...     1 2020-12-30 11:38:09\n",
      "38419  tìm hiểu anime là gì tại https://t.co/hlne1SJB...     1 2020-12-30 11:38:08\n",
      "38420  China clamps down in hidden hunt for coronavir...    13 2020-12-30 11:37:36\n",
      "\n",
      "[38421 rows x 3 columns]\n"
     ]
    }
   ],
   "source": [
    "start_time = datetime.now()\n",
    "print('Started at: {}'.format(start_time))\n",
    "\n",
    "submissionsDecember = api.search_submissions(subreddit=\"worldnews\", after=1606780800, before=1609459200)\n",
    "\n",
    "subStats = {}\n",
    "subData = list()\n",
    "\n",
    "for sub in submissionsDecember:\n",
    "    subData.append((sub['id'],sub['title'],sub['url'],sub['author'],sub['score'],sub['created']))\n",
    "    subStats[sub['id']] = subData\n",
    "\n",
    "    \n",
    "dfDecember = pd.DataFrame(columns=['Post ID', 'Title', 'Url', 'Author', 'Score', 'Publish Date', 'Timestamp'])\n",
    "for sub in subData:\n",
    "    created = datetime.fromtimestamp(sub[5]) \n",
    "    new_row = {'Post ID':sub[0], 'Title':sub[1], 'Url':sub[2], 'Author':sub[3], 'Score':sub[4], 'Publish Date':created, 'Timestamp':sub[5]}\n",
    "    dfDecember = dfDecember.append(new_row, ignore_index=True)\n",
    "\n",
    "end_time = datetime.now()\n",
    "print('Duration: {}'.format(end_time - start_time))\n",
    "    \n",
    "print(dfDecember[['Title', 'Score', 'Publish Date']]) "
   ]
  },
  {
   "cell_type": "code",
   "execution_count": 38,
   "id": "295dee4f",
   "metadata": {},
   "outputs": [],
   "source": [
    "dfDecember.to_csv('December2020.csv')\n",
    "dfDecember.to_csv('December2020tab.csv',sep='\\t')"
   ]
  },
  {
   "cell_type": "code",
   "execution_count": 42,
   "id": "8747f1d6",
   "metadata": {},
   "outputs": [
    {
     "name": "stdout",
     "output_type": "stream",
     "text": [
      "33049\n",
      "      Post ID                                              Title Score        Publish Date\n",
      "14076  jlsvfp             IPS Community Suite v4.3 Beta 2 NULLED     1 2020-11-01 02:00:11\n",
      "14075  jlswic                           Доставка Плюс OpenCart 2     1 2020-11-01 02:02:03\n",
      "14074  jlsx48                         The Core Media Player 4.11     1 2020-11-01 02:03:03\n",
      "14073  jlsxoi                                     ExifTool 12.01     1 2020-11-01 02:04:03\n",
      "14072  jlsy79                                XP Codec Pack 2.5.0     1 2020-11-01 02:05:03\n",
      "...       ...                                                ...   ...                 ...\n",
      "404    k48azi  করোনা আক্রান্ত হয়ে হাসপাতালে ভর্তি সিপিবি সভাপ...     1 2020-12-01 01:35:06\n",
      "403    k48ccs  AIs from AI Dungeon 2 to sexy to funny and one...     1 2020-12-01 01:36:58\n",
      "402    k48mxu  Scientist propose reordering the 150-year-old ...    65 2020-12-01 01:52:01\n",
      "401    k48opk  Twitter, WhatsApp users in Cuba report disrupt...    28 2020-12-01 01:54:29\n",
      "400    k48sho    Ancient wall paintings discovered in the Amazon    66 2020-12-01 01:59:59\n",
      "\n",
      "[33049 rows x 4 columns]\n"
     ]
    }
   ],
   "source": [
    "dfNovember = dfNovember.sort_values(by=['Publish Date'], ascending=True)\n",
    "print(len(dfNovember))\n",
    "print(dfNovember[[\"Post ID\",\"Title\", \"Score\", \"Publish Date\"]])  "
   ]
  },
  {
   "cell_type": "code",
   "execution_count": 10,
   "id": "f2aafa3d",
   "metadata": {},
   "outputs": [
    {
     "data": {
      "text/html": [
       "<div>\n",
       "<style scoped>\n",
       "    .dataframe tbody tr th:only-of-type {\n",
       "        vertical-align: middle;\n",
       "    }\n",
       "\n",
       "    .dataframe tbody tr th {\n",
       "        vertical-align: top;\n",
       "    }\n",
       "\n",
       "    .dataframe thead th {\n",
       "        text-align: right;\n",
       "    }\n",
       "</style>\n",
       "<table border=\"1\" class=\"dataframe\">\n",
       "  <thead>\n",
       "    <tr style=\"text-align: right;\">\n",
       "      <th></th>\n",
       "      <th>Post ID</th>\n",
       "      <th>Title</th>\n",
       "      <th>Url</th>\n",
       "      <th>Author</th>\n",
       "      <th>Score</th>\n",
       "      <th>Publish Date</th>\n",
       "      <th>Timestamp</th>\n",
       "    </tr>\n",
       "  </thead>\n",
       "  <tbody>\n",
       "    <tr>\n",
       "      <th>0</th>\n",
       "      <td>j4rbzi</td>\n",
       "      <td>Trump says he is 'starting to feel good' after...</td>\n",
       "      <td>http://breakingnewseverymint.blogspot.com/2020...</td>\n",
       "      <td>auto022</td>\n",
       "      <td>1</td>\n",
       "      <td>2020-10-04 05:13:45</td>\n",
       "      <td>1.601778e+09</td>\n",
       "    </tr>\n",
       "    <tr>\n",
       "      <th>1</th>\n",
       "      <td>j4rbz6</td>\n",
       "      <td>Trump’s treatments are aimed at preventing sev...</td>\n",
       "      <td>http://breakingnewseverymint.blogspot.com/2020...</td>\n",
       "      <td>auto022</td>\n",
       "      <td>1</td>\n",
       "      <td>2020-10-04 05:13:44</td>\n",
       "      <td>1.601778e+09</td>\n",
       "    </tr>\n",
       "    <tr>\n",
       "      <th>2</th>\n",
       "      <td>j4rbyy</td>\n",
       "      <td>Mark McGowan’s hard border closures in ‘clear ...</td>\n",
       "      <td>http://breakingnewseverymint.blogspot.com/2020...</td>\n",
       "      <td>auto022</td>\n",
       "      <td>1</td>\n",
       "      <td>2020-10-04 05:13:43</td>\n",
       "      <td>1.601778e+09</td>\n",
       "    </tr>\n",
       "  </tbody>\n",
       "</table>\n",
       "</div>"
      ],
      "text/plain": [
       "  Post ID                                              Title                                                Url   Author  Score         Publish Date     Timestamp\n",
       "0  j4rbzi  Trump says he is 'starting to feel good' after...  http://breakingnewseverymint.blogspot.com/2020...  auto022      1  2020-10-04 05:13:45  1.601778e+09\n",
       "1  j4rbz6  Trump’s treatments are aimed at preventing sev...  http://breakingnewseverymint.blogspot.com/2020...  auto022      1  2020-10-04 05:13:44  1.601778e+09\n",
       "2  j4rbyy  Mark McGowan’s hard border closures in ‘clear ...  http://breakingnewseverymint.blogspot.com/2020...  auto022      1  2020-10-04 05:13:43  1.601778e+09"
      ]
     },
     "execution_count": 10,
     "metadata": {},
     "output_type": "execute_result"
    }
   ],
   "source": [
    "octo = pd.read_csv('2020Data/October2020.csv')\n",
    "octo.head(3)\n",
    "octo = octo.drop(octo.columns[0], axis=1)\n",
    "octo.head(3)"
   ]
  },
  {
   "cell_type": "code",
   "execution_count": 17,
   "id": "8332a19e",
   "metadata": {},
   "outputs": [
    {
     "name": "stdout",
     "output_type": "stream",
     "text": [
      "2020-10-04 05:13:45\n",
      "<class 'str'>\n"
     ]
    }
   ],
   "source": [
    "date = octo[\"Publish Date\"][0]\n",
    "print(date)\n",
    "print(type(date))"
   ]
  },
  {
   "cell_type": "code",
   "execution_count": 22,
   "id": "5db857c6",
   "metadata": {},
   "outputs": [
    {
     "name": "stdout",
     "output_type": "stream",
     "text": [
      "4\n"
     ]
    }
   ],
   "source": [
    "time = int(date.split(\" \")[0].split(\"-\")[2])\n",
    "print(time)"
   ]
  },
  {
   "cell_type": "code",
   "execution_count": 33,
   "id": "f45a02c2",
   "metadata": {},
   "outputs": [
    {
     "name": "stdout",
     "output_type": "stream",
     "text": [
      "683\n"
     ]
    }
   ],
   "source": [
    "octo['Day'] = octo[\"Publish Date\"]\n",
    "octo.head(3)\n",
    "octo['Day'] = octo['Day'].apply(lambda date: int(date.split(\" \")[0].split(\"-\")[2]))"
   ]
  },
  {
   "cell_type": "code",
   "execution_count": 39,
   "id": "12a1a4ba",
   "metadata": {},
   "outputs": [
    {
     "data": {
      "text/html": [
       "<div>\n",
       "<style scoped>\n",
       "    .dataframe tbody tr th:only-of-type {\n",
       "        vertical-align: middle;\n",
       "    }\n",
       "\n",
       "    .dataframe tbody tr th {\n",
       "        vertical-align: top;\n",
       "    }\n",
       "\n",
       "    .dataframe thead th {\n",
       "        text-align: right;\n",
       "    }\n",
       "</style>\n",
       "<table border=\"1\" class=\"dataframe\">\n",
       "  <thead>\n",
       "    <tr style=\"text-align: right;\">\n",
       "      <th></th>\n",
       "      <th>Post ID</th>\n",
       "      <th>Title</th>\n",
       "      <th>Url</th>\n",
       "      <th>Author</th>\n",
       "      <th>Score</th>\n",
       "      <th>Publish Date</th>\n",
       "      <th>Timestamp</th>\n",
       "      <th>Day</th>\n",
       "    </tr>\n",
       "  </thead>\n",
       "  <tbody>\n",
       "    <tr>\n",
       "      <th>3215</th>\n",
       "      <td>j3ba5t</td>\n",
       "      <td>US Senate subpoenas heads of Google, Fb and Tw...</td>\n",
       "      <td>https://news-rock.com/us-senate-subpoenas-head...</td>\n",
       "      <td>NewsRock</td>\n",
       "      <td>1</td>\n",
       "      <td>2020-10-01 18:56:57</td>\n",
       "      <td>1.601568e+09</td>\n",
       "      <td>1</td>\n",
       "    </tr>\n",
       "    <tr>\n",
       "      <th>8317</th>\n",
       "      <td>j3ga94</td>\n",
       "      <td>Planet Nine — a massive world thought to be or...</td>\n",
       "      <td>http://www.astronomy.com/news/2019/10/planet-n...</td>\n",
       "      <td>AdrienSergent</td>\n",
       "      <td>1</td>\n",
       "      <td>2020-10-01 23:12:05</td>\n",
       "      <td>1.601583e+09</td>\n",
       "      <td>1</td>\n",
       "    </tr>\n",
       "    <tr>\n",
       "      <th>8318</th>\n",
       "      <td>j3g5bh</td>\n",
       "      <td>Scotland's Sturgeon lambasts virus-positive la...</td>\n",
       "      <td>https://www.reuters.com/article/us-health-coro...</td>\n",
       "      <td>itzarnobbd</td>\n",
       "      <td>99</td>\n",
       "      <td>2020-10-01 23:05:01</td>\n",
       "      <td>1.601583e+09</td>\n",
       "      <td>1</td>\n",
       "    </tr>\n",
       "    <tr>\n",
       "      <th>8319</th>\n",
       "      <td>j3g1pb</td>\n",
       "      <td>On Iran, the Next Administration Must Break Wi...</td>\n",
       "      <td>https://www.foreignaffairs.com/articles/middle...</td>\n",
       "      <td>Facerealityalready</td>\n",
       "      <td>5</td>\n",
       "      <td>2020-10-01 23:00:17</td>\n",
       "      <td>1.601582e+09</td>\n",
       "      <td>1</td>\n",
       "    </tr>\n",
       "    <tr>\n",
       "      <th>15830</th>\n",
       "      <td>j3env7</td>\n",
       "      <td>Newsday In Payments Around The World: UK Mulls...</td>\n",
       "      <td>https://www.pymnts.com/news/2020/today-in-paym...</td>\n",
       "      <td>NaN</td>\n",
       "      <td>1</td>\n",
       "      <td>2020-10-01 21:48:38</td>\n",
       "      <td>1.601578e+09</td>\n",
       "      <td>1</td>\n",
       "    </tr>\n",
       "  </tbody>\n",
       "</table>\n",
       "</div>"
      ],
      "text/plain": [
       "      Post ID                                              Title                                                Url  ...         Publish Date     Timestamp Day\n",
       "3215   j3ba5t  US Senate subpoenas heads of Google, Fb and Tw...  https://news-rock.com/us-senate-subpoenas-head...  ...  2020-10-01 18:56:57  1.601568e+09   1\n",
       "8317   j3ga94  Planet Nine — a massive world thought to be or...  http://www.astronomy.com/news/2019/10/planet-n...  ...  2020-10-01 23:12:05  1.601583e+09   1\n",
       "8318   j3g5bh  Scotland's Sturgeon lambasts virus-positive la...  https://www.reuters.com/article/us-health-coro...  ...  2020-10-01 23:05:01  1.601583e+09   1\n",
       "8319   j3g1pb  On Iran, the Next Administration Must Break Wi...  https://www.foreignaffairs.com/articles/middle...  ...  2020-10-01 23:00:17  1.601582e+09   1\n",
       "15830  j3env7  Newsday In Payments Around The World: UK Mulls...  https://www.pymnts.com/news/2020/today-in-paym...  ...  2020-10-01 21:48:38  1.601578e+09   1\n",
       "\n",
       "[5 rows x 8 columns]"
      ]
     },
     "execution_count": 39,
     "metadata": {},
     "output_type": "execute_result"
    }
   ],
   "source": [
    "sortedByDay = octo.sort_values(by=['Day'])\n",
    "sortedByDay.head()"
   ]
  },
  {
   "cell_type": "code",
   "execution_count": 53,
   "id": "296a1581",
   "metadata": {},
   "outputs": [
    {
     "name": "stdout",
     "output_type": "stream",
     "text": [
      "Empty DataFrame\n",
      "Columns: [Date, Top1, Top2, Top3, Top4, Top5, Top6, Top7, Top8, Top9, Top10, Top11, Top12, Top13, Top14, Top15, Top16, Top17, Top18, Top19, Top20, Top21, Top22, Top23, Top24, Top25]\n",
      "Index: []\n"
     ]
    }
   ],
   "source": [
    "column_names = ['Date']\n",
    "for i in range(1,26):\n",
    "    column_names.append('Top'+str(i))\n",
    "frame = pd.DataFrame(columns=column_names)\n",
    "print(frame)"
   ]
  },
  {
   "cell_type": "code",
   "execution_count": 64,
   "id": "baa50507",
   "metadata": {},
   "outputs": [
    {
     "name": "stdout",
     "output_type": "stream",
     "text": [
      "[17, 'New Zealand Prime Minister Jacinda Ardern appears headed for big election win and 2nd term in early vote counting', \"Armenia launches missile attacks on Azerbaijan's Ganja\", 'Prime Minister Jacinda Ardern wins NZ election by a landslide', 'New Trump golf course provokes fury in Scotland', 'Betelgeuse is 25 percent closer than scientists thought', \"Chinese state broadcaster repeatedly pans away as Xi Jinping coughs 'violently' during key speech\", \"Italy's olive oil production drops by a quarter as 'tree leprosy' takes toll | World news\", \"Coronavirus in Germany: Angela Merkel urges people to stay home 'whenever possible'\", 'Thai protestors were hit with high pressure water cannon. The authority still have yet to confirm what chemical they put in the water.', \"Macron calls Paris beheading 'Islamist terrorist attack'\", \"Thailand's young pro-democracy protesters challenge military and monarchy. A young progressive movement in Thailand is demanding reform to the country's traditional political structure. They are up against a deeply entrenched alliance between the monarchy and the military.\", \"Macron calls Paris beheading 'Islamic Terrorist Attack'\", \"Trump aide urges Taiwan to 'fortify' against Chinese attack\", 'Five European nations condemn Israeli approval of 5,288 new settler homes', 'A bar owner in Italy shuts his business at midnight in full compliance with new national anti-Covid measures, and then reopens 15 minutes later as the decree has no regulation on the \"reopening hours\". Police show up and can do absolutely nothing, so he keeps open until dawn.', 'Paleontologists in Morocco have discovered a new species of small winged dinosaur', 'UK bans any use of mobile phones while driving', 'New Zealand prime minister Jacinda Ardern smashes opposition by landslide.', \"Chinese detention 'leaving thousands of Uighur children without parents' | World news\", 'Germany says Thai king cannot rule from there', 'UN Human Rights Agency Have Visa Renwals Refused by Israel', 'Azerbaijan says 12 civilians killed, 40 wounded in Ganja by Armenia shelling', 'New Zealand election: Jacinda Ardern wins second term after rival concedes | Business News', 'Israeli settlers vandalize olive trees in West Bank village with harvest season at peak', \"'The Godfather': Mexico's ex-defense chief helped ship tons of cocaine and heroin\"]\n",
      "26\n"
     ]
    }
   ],
   "source": [
    "day17 = octo.loc[octo[\"Day\"] == 17].sort_values(by=['Score'], ascending=False)[:25]\n",
    "#print(day17[[\"Title\", \"Score\", \"Publish Date\"]])\n",
    "#print(len(day17))\n",
    "new_row = [17]\n",
    "day17_list = day17.values.tolist()\n",
    "for row in day17_list:\n",
    "    #print(row)\n",
    "    new_row.append(row[1])\n",
    "print(new_row)\n",
    "print(len(new_row))"
   ]
  },
  {
   "cell_type": "code",
   "execution_count": 65,
   "id": "aab6498c",
   "metadata": {},
   "outputs": [
    {
     "data": {
      "text/html": [
       "<div>\n",
       "<style scoped>\n",
       "    .dataframe tbody tr th:only-of-type {\n",
       "        vertical-align: middle;\n",
       "    }\n",
       "\n",
       "    .dataframe tbody tr th {\n",
       "        vertical-align: top;\n",
       "    }\n",
       "\n",
       "    .dataframe thead th {\n",
       "        text-align: right;\n",
       "    }\n",
       "</style>\n",
       "<table border=\"1\" class=\"dataframe\">\n",
       "  <thead>\n",
       "    <tr style=\"text-align: right;\">\n",
       "      <th></th>\n",
       "      <th>Date</th>\n",
       "      <th>Top1</th>\n",
       "      <th>Top2</th>\n",
       "      <th>Top3</th>\n",
       "      <th>Top4</th>\n",
       "      <th>Top5</th>\n",
       "      <th>Top6</th>\n",
       "      <th>Top7</th>\n",
       "      <th>Top8</th>\n",
       "      <th>Top9</th>\n",
       "      <th>Top10</th>\n",
       "      <th>Top11</th>\n",
       "      <th>Top12</th>\n",
       "      <th>Top13</th>\n",
       "      <th>Top14</th>\n",
       "      <th>Top15</th>\n",
       "      <th>Top16</th>\n",
       "      <th>Top17</th>\n",
       "      <th>Top18</th>\n",
       "      <th>Top19</th>\n",
       "      <th>Top20</th>\n",
       "      <th>Top21</th>\n",
       "      <th>Top22</th>\n",
       "      <th>Top23</th>\n",
       "      <th>Top24</th>\n",
       "      <th>Top25</th>\n",
       "    </tr>\n",
       "  </thead>\n",
       "  <tbody>\n",
       "    <tr>\n",
       "      <th>0</th>\n",
       "      <td>17</td>\n",
       "      <td>New Zealand Prime Minister Jacinda Ardern appe...</td>\n",
       "      <td>Armenia launches missile attacks on Azerbaijan...</td>\n",
       "      <td>Prime Minister Jacinda Ardern wins NZ election...</td>\n",
       "      <td>New Trump golf course provokes fury in Scotland</td>\n",
       "      <td>Betelgeuse is 25 percent closer than scientist...</td>\n",
       "      <td>Chinese state broadcaster repeatedly pans away...</td>\n",
       "      <td>Italy's olive oil production drops by a quarte...</td>\n",
       "      <td>Coronavirus in Germany: Angela Merkel urges pe...</td>\n",
       "      <td>Thai protestors were hit with high pressure wa...</td>\n",
       "      <td>Macron calls Paris beheading 'Islamist terrori...</td>\n",
       "      <td>Thailand's young pro-democracy protesters chal...</td>\n",
       "      <td>Macron calls Paris beheading 'Islamic Terroris...</td>\n",
       "      <td>Trump aide urges Taiwan to 'fortify' against C...</td>\n",
       "      <td>Five European nations condemn Israeli approval...</td>\n",
       "      <td>A bar owner in Italy shuts his business at mid...</td>\n",
       "      <td>Paleontologists in Morocco have discovered a n...</td>\n",
       "      <td>UK bans any use of mobile phones while driving</td>\n",
       "      <td>New Zealand prime minister Jacinda Ardern smas...</td>\n",
       "      <td>Chinese detention 'leaving thousands of Uighur...</td>\n",
       "      <td>Germany says Thai king cannot rule from there</td>\n",
       "      <td>UN Human Rights Agency Have Visa Renwals Refus...</td>\n",
       "      <td>Azerbaijan says 12 civilians killed, 40 wounde...</td>\n",
       "      <td>New Zealand election: Jacinda Ardern wins seco...</td>\n",
       "      <td>Israeli settlers vandalize olive trees in West...</td>\n",
       "      <td>'The Godfather': Mexico's ex-defense chief hel...</td>\n",
       "    </tr>\n",
       "    <tr>\n",
       "      <th>1</th>\n",
       "      <td>17</td>\n",
       "      <td>New Zealand Prime Minister Jacinda Ardern appe...</td>\n",
       "      <td>Armenia launches missile attacks on Azerbaijan...</td>\n",
       "      <td>Prime Minister Jacinda Ardern wins NZ election...</td>\n",
       "      <td>New Trump golf course provokes fury in Scotland</td>\n",
       "      <td>Betelgeuse is 25 percent closer than scientist...</td>\n",
       "      <td>Chinese state broadcaster repeatedly pans away...</td>\n",
       "      <td>Italy's olive oil production drops by a quarte...</td>\n",
       "      <td>Coronavirus in Germany: Angela Merkel urges pe...</td>\n",
       "      <td>Thai protestors were hit with high pressure wa...</td>\n",
       "      <td>Macron calls Paris beheading 'Islamist terrori...</td>\n",
       "      <td>Thailand's young pro-democracy protesters chal...</td>\n",
       "      <td>Macron calls Paris beheading 'Islamic Terroris...</td>\n",
       "      <td>Trump aide urges Taiwan to 'fortify' against C...</td>\n",
       "      <td>Five European nations condemn Israeli approval...</td>\n",
       "      <td>A bar owner in Italy shuts his business at mid...</td>\n",
       "      <td>Paleontologists in Morocco have discovered a n...</td>\n",
       "      <td>UK bans any use of mobile phones while driving</td>\n",
       "      <td>New Zealand prime minister Jacinda Ardern smas...</td>\n",
       "      <td>Chinese detention 'leaving thousands of Uighur...</td>\n",
       "      <td>Germany says Thai king cannot rule from there</td>\n",
       "      <td>UN Human Rights Agency Have Visa Renwals Refus...</td>\n",
       "      <td>Azerbaijan says 12 civilians killed, 40 wounde...</td>\n",
       "      <td>New Zealand election: Jacinda Ardern wins seco...</td>\n",
       "      <td>Israeli settlers vandalize olive trees in West...</td>\n",
       "      <td>'The Godfather': Mexico's ex-defense chief hel...</td>\n",
       "    </tr>\n",
       "  </tbody>\n",
       "</table>\n",
       "</div>"
      ],
      "text/plain": [
       "  Date                                               Top1  ...                                              Top24                                              Top25\n",
       "0   17  New Zealand Prime Minister Jacinda Ardern appe...  ...  Israeli settlers vandalize olive trees in West...  'The Godfather': Mexico's ex-defense chief hel...\n",
       "1   17  New Zealand Prime Minister Jacinda Ardern appe...  ...  Israeli settlers vandalize olive trees in West...  'The Godfather': Mexico's ex-defense chief hel...\n",
       "\n",
       "[2 rows x 26 columns]"
      ]
     },
     "execution_count": 65,
     "metadata": {},
     "output_type": "execute_result"
    }
   ],
   "source": [
    "\n",
    "frame.loc[len(frame.index)] = new_row \n",
    "frame.head(2)"
   ]
  },
  {
   "cell_type": "code",
   "execution_count": null,
   "id": "843a221f",
   "metadata": {},
   "outputs": [],
   "source": []
  }
 ],
 "metadata": {
  "kernelspec": {
   "display_name": "Python 3",
   "language": "python",
   "name": "python3"
  },
  "language_info": {
   "codemirror_mode": {
    "name": "ipython",
    "version": 3
   },
   "file_extension": ".py",
   "mimetype": "text/x-python",
   "name": "python",
   "nbconvert_exporter": "python",
   "pygments_lexer": "ipython3",
   "version": "3.8.8"
  }
 },
 "nbformat": 4,
 "nbformat_minor": 5
}
