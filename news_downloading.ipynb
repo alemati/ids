{
 "cells": [
  {
   "cell_type": "code",
   "execution_count": 4,
   "id": "3c7bf8de",
   "metadata": {},
   "outputs": [
    {
     "name": "stdout",
     "output_type": "stream",
     "text": [
      "aleksanm\n"
     ]
    }
   ],
   "source": [
    "import pandas as pd\n",
    "import requests\n",
    "import json\n",
    "import csv\n",
    "import time\n",
    "import datetime\n",
    "import praw\n",
    "from pmaw import PushshiftAPI\n",
    "import praw\n",
    "from datetime import datetime\n",
    "start_time = datetime.now()\n",
    "\n",
    "reddit = praw.Reddit(client_id='J32hsxMDopeDEPrSFZz5zQ', \\\n",
    "                     client_secret='r8heiWleQYzL7JyKWU7QbwlXFCLmDg', \\\n",
    "                     user_agent='aleksanm', \\\n",
    "                     username='aleksanm', \\\n",
    "                     password='red26!red')\n",
    "api = PushshiftAPI(praw=reddit)\n",
    "print(reddit.user.me())"
   ]
  },
  {
   "cell_type": "code",
   "execution_count": 1,
   "id": "f0a217cb",
   "metadata": {},
   "outputs": [],
   "source": [
    "year = 2019"
   ]
  },
  {
   "cell_type": "code",
   "execution_count": 6,
   "id": "837caa3d",
   "metadata": {},
   "outputs": [
    {
     "name": "stdout",
     "output_type": "stream",
     "text": [
      "cell3\n"
     ]
    }
   ],
   "source": []
  },
  {
   "cell_type": "code",
   "execution_count": 7,
   "id": "1a1fc669",
   "metadata": {},
   "outputs": [],
   "source": []
  },
  {
   "cell_type": "code",
   "execution_count": 8,
   "id": "ecd9f59f",
   "metadata": {},
   "outputs": [
    {
     "name": "stdout",
     "output_type": "stream",
     "text": [
      "Started at: 2021-10-28 02:30:16.459522\n"
     ]
    },
    {
     "name": "stderr",
     "output_type": "stream",
     "text": [
      "Not all PushShift shards are active. Query results may be incomplete.\n"
     ]
    },
    {
     "name": "stdout",
     "output_type": "stream",
     "text": [
      "31 result(s) available in Pushshift\n"
     ]
    },
    {
     "name": "stderr",
     "output_type": "stream",
     "text": [
      "Not all PushShift shards are active. Query results may be incomplete.\n"
     ]
    },
    {
     "name": "stdout",
     "output_type": "stream",
     "text": [
      "Total:: Success Rate: 100.00% - Requests: 10 - Batches: 1 - Items Remaining: 0\n",
      "Finishing enrichment for 31 items\n",
      "Duration: 0:00:13.825068\n",
      "                                                Title Score        Publish Date     Timestamp\n",
      "0   Après trois décennies de progrès informatiques...     1 2020-09-30 23:04:48  1.601496e+09\n",
      "1   IPL 2020: KKR vs RR: Kolkata Knight Riders bea...     1 2020-09-30 23:03:49  1.601496e+09\n",
      "2   Du fait de son internationalisation et des flu...     1 2020-09-30 23:02:06  1.601496e+09\n",
      "3   Belarus authorities suspend popular news porta...    46 2020-09-30 23:15:27  1.601497e+09\n",
      "4   Israeli government votes to limit anti-Netanya...    17 2020-09-30 23:14:46  1.601497e+09\n",
      "5   Armenia and Azerbaijan Vow to Keep Fighting as...    40 2020-09-30 23:14:43  1.601497e+09\n",
      "6   6 rockets launched towards Erbil's airport, th...    25 2020-09-30 23:12:26  1.601497e+09\n",
      "7            The cringiest podcast you will ever hear     0 2020-09-30 23:12:17  1.601497e+09\n",
      "8               2019 Coronavirus Investigation Report     0 2020-09-30 23:10:43  1.601497e+09\n",
      "9            Thw cringiest podcast you will ever hear     1 2020-09-30 23:08:59  1.601497e+09\n",
      "10  Sebi levies Rs 12 lakh fine on Ganganagar Comm...     1 2020-09-30 23:08:33  1.601497e+09\n",
      "11  Poland's government heads further to the right...    22 2020-09-30 23:06:32  1.601496e+09\n",
      "12  4 out of 10 S Koreans face mental issues due t...    29 2020-09-30 23:20:02  1.601497e+09\n",
      "13  Nigeria’s equity market rises 0.83%, driven by...     1 2020-09-30 23:18:25  1.601497e+09\n",
      "14  Heiress to Seagrams Liquor and sex cult benefa...    26 2020-09-30 23:28:46  1.601498e+09\n",
      "15  Nagorno-Karabakh: at least three Syrian fighte...    34 2020-09-30 23:26:42  1.601498e+09\n",
      "16  Congrats on making it to Hump Day! Have a rewa...     1 2020-09-30 23:35:13  1.601498e+09\n",
      "17  Ray McGuire de Citigroup recurre al ejecutivo ...     1 2020-09-30 23:31:44  1.601498e+09\n",
      "18  Facebook da su primer paso hacia la Internet '...     1 2020-09-30 23:31:42  1.601498e+09\n",
      "19  Perspectiva | Piense en el debate como un parq...     1 2020-09-30 23:31:42  1.601498e+09\n",
      "20  '¿Imagina que el Cáucaso se convierta en otra ...     1 2020-09-30 23:31:41  1.601498e+09\n",
      "21  Perspectiva | 8 recetas preparadas para cocina...     1 2020-09-30 23:31:40  1.601498e+09\n",
      "22  Starting from scratch: The Ontario dad who had...    19 2020-09-30 23:31:09  1.601498e+09\n",
      "23  Starting from scratch: The Ontario dad who had...     1 2020-09-30 23:30:41  1.601498e+09\n",
      "24  Seagram’s heiress Clare Bronfman sentenced to ...     1 2020-09-30 23:30:03  1.601498e+09\n",
      "25  From China to France, media dismayed at \"chaot...    15 2020-09-30 23:38:35  1.601498e+09\n",
      "26  Hotel of Tomorrow Project Unveils Five New Hos...     1 2020-09-30 23:47:24  1.601499e+09\n",
      "27  Alert IDF troops nab 4 Palestinians with fireb...     9 2020-09-30 23:43:04  1.601499e+09\n",
      "28  Paris meat cleaver attacker charged with attem...    15 2020-09-30 23:48:07  1.601499e+09\n",
      "29  Turkey has only been publishing symptomatic co...    38 2020-09-30 23:56:46  1.601499e+09\n",
      "30  Pope rejects US Secretary of Suppose Mike Pomp...     1 2020-09-30 23:56:13  1.601499e+09\n"
     ]
    }
   ],
   "source": [
    "# trial attempt\n",
    "start_time = datetime.now()\n",
    "print('Started at: {}'.format(start_time))\n",
    "\n",
    "submissions = api.search_submissions(subreddit=\"worldnews\", after=1601496000, before=1601499600) \n",
    "\n",
    "subStats = {}\n",
    "subData = list()\n",
    "\n",
    "for sub in submissions:\n",
    "    subData.append((sub['id'],sub['title'],sub['url'],sub['author'],sub['score'],sub['created']))\n",
    "    subStats[sub['id']] = subData\n",
    "\n",
    "    \n",
    "df = pd.DataFrame(columns=['Post ID', 'Title', 'Url', 'Author', 'Score', 'Publish Date', 'Timestamp'])\n",
    "for sub in subData:\n",
    "    created = datetime.fromtimestamp(sub[5]) \n",
    "    new_row = {'Post ID':sub[0], 'Title':sub[1], 'Url':sub[2], 'Author':sub[3], 'Score':sub[4], 'Publish Date':created, 'Timestamp':sub[5]}\n",
    "    df = df.append(new_row, ignore_index=True)\n",
    "\n",
    "end_time = datetime.now()\n",
    "print('Duration: {}'.format(end_time - start_time))\n",
    "    \n",
    "print(df[['Title', 'Score', 'Publish Date', 'Timestamp']]) "
   ]
  },
  {
   "cell_type": "code",
   "execution_count": 9,
   "id": "f4e8a2d2",
   "metadata": {},
   "outputs": [
    {
     "name": "stdout",
     "output_type": "stream",
     "text": [
      "Started at: 2021-10-28 02:30:30.310292\n"
     ]
    },
    {
     "name": "stderr",
     "output_type": "stream",
     "text": [
      "Not all PushShift shards are active. Query results may be incomplete.\n"
     ]
    },
    {
     "name": "stdout",
     "output_type": "stream",
     "text": [
      "27017 result(s) available in Pushshift\n"
     ]
    },
    {
     "name": "stderr",
     "output_type": "stream",
     "text": [
      "Not all PushShift shards are active. Query results may be incomplete.\n",
      "Not all PushShift shards are active. Query results may be incomplete.\n",
      "Not all PushShift shards are active. Query results may be incomplete.\n",
      "Not all PushShift shards are active. Query results may be incomplete.\n",
      "Not all PushShift shards are active. Query results may be incomplete.\n",
      "Not all PushShift shards are active. Query results may be incomplete.\n",
      "Not all PushShift shards are active. Query results may be incomplete.\n",
      "Not all PushShift shards are active. Query results may be incomplete.\n",
      "Not all PushShift shards are active. Query results may be incomplete.\n",
      "Not all PushShift shards are active. Query results may be incomplete.\n",
      "Not all PushShift shards are active. Query results may be incomplete.\n",
      "Not all PushShift shards are active. Query results may be incomplete.\n",
      "Not all PushShift shards are active. Query results may be incomplete.\n",
      "Not all PushShift shards are active. Query results may be incomplete.\n",
      "Not all PushShift shards are active. Query results may be incomplete.\n",
      "Not all PushShift shards are active. Query results may be incomplete.\n",
      "Not all PushShift shards are active. Query results may be incomplete.\n",
      "Not all PushShift shards are active. Query results may be incomplete.\n",
      "Not all PushShift shards are active. Query results may be incomplete.\n",
      "Not all PushShift shards are active. Query results may be incomplete.\n",
      "Not all PushShift shards are active. Query results may be incomplete.\n",
      "Not all PushShift shards are active. Query results may be incomplete.\n",
      "Not all PushShift shards are active. Query results may be incomplete.\n",
      "Not all PushShift shards are active. Query results may be incomplete.\n",
      "Not all PushShift shards are active. Query results may be incomplete.\n",
      "Not all PushShift shards are active. Query results may be incomplete.\n",
      "Not all PushShift shards are active. Query results may be incomplete.\n",
      "Not all PushShift shards are active. Query results may be incomplete.\n",
      "Not all PushShift shards are active. Query results may be incomplete.\n",
      "Not all PushShift shards are active. Query results may be incomplete.\n",
      "Not all PushShift shards are active. Query results may be incomplete.\n",
      "Not all PushShift shards are active. Query results may be incomplete.\n"
     ]
    },
    {
     "name": "stdout",
     "output_type": "stream",
     "text": [
      "Total:: Success Rate: 100.00% - Requests: 317 - Batches: 32 - Items Remaining: 3\n",
      "Finishing enrichment for 349 items\n"
     ]
    },
    {
     "name": "stderr",
     "output_type": "stream",
     "text": [
      "Not all PushShift shards are active. Query results may be incomplete.\n"
     ]
    },
    {
     "name": "stdout",
     "output_type": "stream",
     "text": [
      "3 result(s) not found in Pushshift\n",
      "Duration: 0:09:34.501858\n",
      "                                                   Title Score        Publish Date\n",
      "0      Chinese Vice-Premier Liu He expected to invite...     5 2019-01-31 21:59:49\n",
      "1      Exclusive: Venezuela prepares to fly tonnes of...     1 2019-01-31 21:58:19\n",
      "2      Procure empresas de Uber em Cabo de Santo Agos...     1 2019-01-31 21:55:33\n",
      "3               Fury at Virginia late-term abortion bill     1 2019-01-31 21:55:19\n",
      "4      US secretly ships Cold War-era plutonium to Ne...     1 2019-01-31 21:53:46\n",
      "...                                                  ...   ...                 ...\n",
      "27009           Sanders: 'God wanted Trump as president'     4 2019-01-31 08:38:29\n",
      "27010  Thai Officials Close Schools As Toxic Air Poll...    28 2019-01-31 08:37:47\n",
      "27011       17 on trial in Tunisia's beach resort attack     3 2019-01-31 08:37:36\n",
      "27012  Claremont serial killer prosecutors call for n...     1 2019-01-31 08:36:20\n",
      "27013  ‘Antisemitic’ Amnesty International Campaign T...     1 2019-01-31 08:32:31\n",
      "\n",
      "[27014 rows x 3 columns]\n"
     ]
    }
   ],
   "source": [
    "start_time = datetime.now()\n",
    "print('Started at: {}'.format(start_time))\n",
    "\n",
    "submissionsJanuary = api.search_submissions(subreddit=\"worldnews\", after=1546286400, before=1548964800)\n",
    "subStats = {}\n",
    "subData = list()\n",
    "\n",
    "for sub in submissionsJanuary:\n",
    "    subData.append((sub['id'],sub['title'],sub['url'],sub['author'],sub['score'],sub['created']))\n",
    "    subStats[sub['id']] = subData\n",
    "\n",
    "    \n",
    "dfJanuary = pd.DataFrame(columns=['Post ID', 'Title', 'Url', 'Author', 'Score', 'Publish Date', 'Timestamp'])\n",
    "for sub in subData:\n",
    "    created = datetime.fromtimestamp(sub[5]) \n",
    "    new_row = {'Post ID':sub[0], 'Title':sub[1], 'Url':sub[2], 'Author':sub[3], 'Score':sub[4], 'Publish Date':created, 'Timestamp':sub[5]}\n",
    "    dfJanuary = dfJanuary.append(new_row, ignore_index=True)\n",
    "\n",
    "end_time = datetime.now()\n",
    "print('Duration: {}'.format(end_time - start_time))\n",
    "    \n",
    "print(dfJanuary[['Title', 'Score', 'Publish Date']]) \n",
    "csvName = year + \"month\" + 1 + \".csv\"\n",
    "dfJanuary.to_csv(csvName)"
   ]
  },
  {
   "cell_type": "code",
   "execution_count": 10,
   "id": "f79efd3b",
   "metadata": {},
   "outputs": [
    {
     "name": "stdout",
     "output_type": "stream",
     "text": [
      "Started at: 2021-10-28 02:40:05.184082\n"
     ]
    },
    {
     "name": "stderr",
     "output_type": "stream",
     "text": [
      "Not all PushShift shards are active. Query results may be incomplete.\n"
     ]
    },
    {
     "name": "stdout",
     "output_type": "stream",
     "text": [
      "24236 result(s) available in Pushshift\n"
     ]
    },
    {
     "name": "stderr",
     "output_type": "stream",
     "text": [
      "Not all PushShift shards are active. Query results may be incomplete.\n",
      "Not all PushShift shards are active. Query results may be incomplete.\n",
      "Not all PushShift shards are active. Query results may be incomplete.\n",
      "Not all PushShift shards are active. Query results may be incomplete.\n",
      "Not all PushShift shards are active. Query results may be incomplete.\n",
      "Not all PushShift shards are active. Query results may be incomplete.\n",
      "Not all PushShift shards are active. Query results may be incomplete.\n",
      "Not all PushShift shards are active. Query results may be incomplete.\n",
      "Not all PushShift shards are active. Query results may be incomplete.\n",
      "Not all PushShift shards are active. Query results may be incomplete.\n",
      "Not all PushShift shards are active. Query results may be incomplete.\n",
      "Not all PushShift shards are active. Query results may be incomplete.\n",
      "Not all PushShift shards are active. Query results may be incomplete.\n",
      "Not all PushShift shards are active. Query results may be incomplete.\n",
      "Not all PushShift shards are active. Query results may be incomplete.\n",
      "Not all PushShift shards are active. Query results may be incomplete.\n",
      "Not all PushShift shards are active. Query results may be incomplete.\n",
      "Not all PushShift shards are active. Query results may be incomplete.\n",
      "Not all PushShift shards are active. Query results may be incomplete.\n",
      "Not all PushShift shards are active. Query results may be incomplete.\n",
      "Not all PushShift shards are active. Query results may be incomplete.\n",
      "Not all PushShift shards are active. Query results may be incomplete.\n",
      "Not all PushShift shards are active. Query results may be incomplete.\n",
      "Not all PushShift shards are active. Query results may be incomplete.\n",
      "Not all PushShift shards are active. Query results may be incomplete.\n",
      "Not all PushShift shards are active. Query results may be incomplete.\n",
      "Not all PushShift shards are active. Query results may be incomplete.\n",
      "Not all PushShift shards are active. Query results may be incomplete.\n",
      "Not all PushShift shards are active. Query results may be incomplete.\n"
     ]
    },
    {
     "name": "stdout",
     "output_type": "stream",
     "text": [
      "Total:: Success Rate: 98.25% - Requests: 285 - Batches: 29 - Items Remaining: 3\n",
      "Finishing enrichment for 179 items\n"
     ]
    },
    {
     "name": "stderr",
     "output_type": "stream",
     "text": [
      "Not all PushShift shards are active. Query results may be incomplete.\n"
     ]
    },
    {
     "name": "stdout",
     "output_type": "stream",
     "text": [
      "3 result(s) not found in Pushshift\n",
      "Duration: 0:08:27.204702\n",
      "                                                   Title  Score        Publish Date\n",
      "0      Sizzling heat in Australia driving snakes into...     62 2019-02-03 17:10:15\n",
      "1      Millennials’ pay still stunted by the 2008 fin...  80710 2019-02-03 17:08:43\n",
      "2      Работа с кожей. Зажим для денег. Leather money...      1 2019-02-03 17:05:58\n",
      "3      ‘A watershed moment’: Trump faces crossroads a...      4 2019-02-03 17:04:15\n",
      "4      Trump says he wouldn't steer son Barron toward...      1 2019-02-03 17:03:42\n",
      "...                                                  ...    ...                 ...\n",
      "24228  Nadal loses to Kyrgios, lashes Aussie in press...      1 2019-02-28 11:59:04\n",
      "24229  Moscow’s facial-recognition surveillance camer...      7 2019-02-28 11:58:09\n",
      "24230  Michael Cohen accuses 'racist, conman' Trump o...      3 2019-02-28 11:56:55\n",
      "24231  India says it shot down one Pakistani fighter ...      3 2019-02-28 11:56:38\n",
      "24232  A journalist asked Kim Jong Un a question. For...      1 2019-02-28 11:53:27\n",
      "\n",
      "[24233 rows x 3 columns]\n"
     ]
    }
   ],
   "source": [
    "start_time = datetime.now()\n",
    "print('Started at: {}'.format(start_time))\n",
    "\n",
    "submissionsFebruary = api.search_submissions(subreddit=\"worldnews\", after=1548964800, before=1551384000)\n",
    "\n",
    "subStats = {}\n",
    "subData = list()\n",
    "\n",
    "for sub in submissionsFebruary:\n",
    "    subData.append((sub['id'],sub['title'],sub['url'],sub['author'],sub['score'],sub['created']))\n",
    "    subStats[sub['id']] = subData\n",
    "\n",
    "    \n",
    "dfFebruary = pd.DataFrame(columns=['Post ID', 'Title', 'Url', 'Author', 'Score', 'Publish Date', 'Timestamp'])\n",
    "for sub in subData:\n",
    "    created = datetime.fromtimestamp(sub[5]) \n",
    "    new_row = {'Post ID':sub[0], 'Title':sub[1], 'Url':sub[2], 'Author':sub[3], 'Score':sub[4], 'Publish Date':created, 'Timestamp':sub[5]}\n",
    "    dfFebruary = dfFebruary.append(new_row, ignore_index=True)\n",
    "\n",
    "end_time = datetime.now()\n",
    "print('Duration: {}'.format(end_time - start_time))\n",
    "    \n",
    "print(dfFebruary[['Title', 'Score', 'Publish Date']]) \n",
    "csvName = year + \"month\" + 2 + \".csv\"\n",
    "dfFebruary.to_csv(csvName, index = False)"
   ]
  },
  {
   "cell_type": "code",
   "execution_count": 11,
   "id": "3f002d72",
   "metadata": {},
   "outputs": [
    {
     "name": "stdout",
     "output_type": "stream",
     "text": [
      "Started at: 2021-10-28 02:48:32.728257\n"
     ]
    },
    {
     "name": "stderr",
     "output_type": "stream",
     "text": [
      "Not all PushShift shards are active. Query results may be incomplete.\n"
     ]
    },
    {
     "name": "stdout",
     "output_type": "stream",
     "text": [
      "28353 result(s) available in Pushshift\n"
     ]
    },
    {
     "name": "stderr",
     "output_type": "stream",
     "text": [
      "Not all PushShift shards are active. Query results may be incomplete.\n",
      "Not all PushShift shards are active. Query results may be incomplete.\n",
      "Not all PushShift shards are active. Query results may be incomplete.\n",
      "Not all PushShift shards are active. Query results may be incomplete.\n",
      "Not all PushShift shards are active. Query results may be incomplete.\n",
      "Not all PushShift shards are active. Query results may be incomplete.\n",
      "Not all PushShift shards are active. Query results may be incomplete.\n",
      "Not all PushShift shards are active. Query results may be incomplete.\n",
      "Not all PushShift shards are active. Query results may be incomplete.\n",
      "Not all PushShift shards are active. Query results may be incomplete.\n",
      "Not all PushShift shards are active. Query results may be incomplete.\n",
      "Not all PushShift shards are active. Query results may be incomplete.\n",
      "Not all PushShift shards are active. Query results may be incomplete.\n",
      "Not all PushShift shards are active. Query results may be incomplete.\n",
      "Not all PushShift shards are active. Query results may be incomplete.\n",
      "Not all PushShift shards are active. Query results may be incomplete.\n",
      "Not all PushShift shards are active. Query results may be incomplete.\n",
      "Not all PushShift shards are active. Query results may be incomplete.\n",
      "Not all PushShift shards are active. Query results may be incomplete.\n",
      "Not all PushShift shards are active. Query results may be incomplete.\n",
      "Not all PushShift shards are active. Query results may be incomplete.\n",
      "Not all PushShift shards are active. Query results may be incomplete.\n",
      "Not all PushShift shards are active. Query results may be incomplete.\n",
      "Not all PushShift shards are active. Query results may be incomplete.\n",
      "Not all PushShift shards are active. Query results may be incomplete.\n",
      "Not all PushShift shards are active. Query results may be incomplete.\n",
      "Not all PushShift shards are active. Query results may be incomplete.\n",
      "Not all PushShift shards are active. Query results may be incomplete.\n",
      "Not all PushShift shards are active. Query results may be incomplete.\n",
      "Not all PushShift shards are active. Query results may be incomplete.\n",
      "Not all PushShift shards are active. Query results may be incomplete.\n",
      "Not all PushShift shards are active. Query results may be incomplete.\n",
      "Not all PushShift shards are active. Query results may be incomplete.\n",
      "Not all PushShift shards are active. Query results may be incomplete.\n",
      "Not all PushShift shards are active. Query results may be incomplete.\n",
      "Not all PushShift shards are active. Query results may be incomplete.\n"
     ]
    },
    {
     "name": "stdout",
     "output_type": "stream",
     "text": [
      "Total:: Success Rate: 95.26% - Requests: 359 - Batches: 36 - Items Remaining: 4\n",
      "Finishing enrichment for 438 items\n"
     ]
    },
    {
     "name": "stderr",
     "output_type": "stream",
     "text": [
      "Not all PushShift shards are active. Query results may be incomplete.\n"
     ]
    },
    {
     "name": "stdout",
     "output_type": "stream",
     "text": [
      "4 result(s) not found in Pushshift\n",
      "Duration: 0:10:52.662359\n",
      "                                                   Title Score        Publish Date\n",
      "0      Tensions flare as Democrats struggle to respon...     1 2019-03-07 02:44:09\n",
      "1      British government vows to tackle ‘scourge’ of...     1 2019-03-07 02:42:12\n",
      "2      9 lucrative credit-card deals new cardholders ...     1 2019-03-07 02:41:12\n",
      "3      Christinna Pedersen & Kamilla Rytter Juhl: The...     1 2019-03-07 02:41:10\n",
      "4      British government vows to tackle ‘scourge’ of...     1 2019-03-07 02:41:09\n",
      "...                                                  ...   ...                 ...\n",
      "28344  Second Chinese rocket startup fails to put sat...     1 2019-03-30 14:16:34\n",
      "28345  Theresa May’s Third Brexit Loss Closes More Doors    59 2019-03-30 14:15:54\n",
      "28346  Earth Hour: landmarks to switch off lights to ...    15 2019-03-30 14:13:36\n",
      "28347  City of love? Christian right congress in Vero...     1 2019-03-30 14:11:07\n",
      "28348  Thousands of Gazans mark anniversary of bloody...     3 2019-03-30 14:09:56\n",
      "\n",
      "[28349 rows x 3 columns]\n"
     ]
    }
   ],
   "source": [
    "start_time = datetime.now()\n",
    "print('Started at: {}'.format(start_time))\n",
    "\n",
    "submissionsMarch = api.search_submissions(subreddit=\"worldnews\", after=1551384000, before=1554062400)\n",
    "\n",
    "subStats = {}\n",
    "subData = list()\n",
    "\n",
    "for sub in submissionsMarch:\n",
    "    subData.append((sub['id'],sub['title'],sub['url'],sub['author'],sub['score'],sub['created']))\n",
    "    subStats[sub['id']] = subData\n",
    "\n",
    "    \n",
    "dfMarch = pd.DataFrame(columns=['Post ID', 'Title', 'Url', 'Author', 'Score', 'Publish Date', 'Timestamp'])\n",
    "for sub in subData:\n",
    "    created = datetime.fromtimestamp(sub[5]) \n",
    "    new_row = {'Post ID':sub[0], 'Title':sub[1], 'Url':sub[2], 'Author':sub[3], 'Score':sub[4], 'Publish Date':created, 'Timestamp':sub[5]}\n",
    "    dfMarch = dfMarch.append(new_row, ignore_index=True)\n",
    "\n",
    "end_time = datetime.now()\n",
    "print('Duration: {}'.format(end_time - start_time))\n",
    "    \n",
    "print(dfMarch[['Title', 'Score', 'Publish Date']]) \n",
    "csvName = year + \"month\" + 3 + \".csv\"\n",
    "dfMarch.to_csv(csvName, index = False)"
   ]
  },
  {
   "cell_type": "code",
   "execution_count": 12,
   "id": "1a221262",
   "metadata": {},
   "outputs": [
    {
     "name": "stdout",
     "output_type": "stream",
     "text": [
      "Started at: 2021-10-28 02:59:25.745838\n"
     ]
    },
    {
     "name": "stderr",
     "output_type": "stream",
     "text": [
      "Not all PushShift shards are active. Query results may be incomplete.\n"
     ]
    },
    {
     "name": "stdout",
     "output_type": "stream",
     "text": [
      "23846 result(s) available in Pushshift\n"
     ]
    },
    {
     "name": "stderr",
     "output_type": "stream",
     "text": [
      "Not all PushShift shards are active. Query results may be incomplete.\n",
      "Not all PushShift shards are active. Query results may be incomplete.\n",
      "Not all PushShift shards are active. Query results may be incomplete.\n",
      "Not all PushShift shards are active. Query results may be incomplete.\n",
      "Not all PushShift shards are active. Query results may be incomplete.\n",
      "Not all PushShift shards are active. Query results may be incomplete.\n",
      "Not all PushShift shards are active. Query results may be incomplete.\n",
      "Not all PushShift shards are active. Query results may be incomplete.\n",
      "Not all PushShift shards are active. Query results may be incomplete.\n",
      "Not all PushShift shards are active. Query results may be incomplete.\n",
      "Not all PushShift shards are active. Query results may be incomplete.\n",
      "Not all PushShift shards are active. Query results may be incomplete.\n",
      "Not all PushShift shards are active. Query results may be incomplete.\n",
      "Not all PushShift shards are active. Query results may be incomplete.\n",
      "Not all PushShift shards are active. Query results may be incomplete.\n",
      "Not all PushShift shards are active. Query results may be incomplete.\n",
      "Not all PushShift shards are active. Query results may be incomplete.\n",
      "Not all PushShift shards are active. Query results may be incomplete.\n",
      "Not all PushShift shards are active. Query results may be incomplete.\n",
      "Not all PushShift shards are active. Query results may be incomplete.\n",
      "Not all PushShift shards are active. Query results may be incomplete.\n",
      "Not all PushShift shards are active. Query results may be incomplete.\n",
      "Not all PushShift shards are active. Query results may be incomplete.\n",
      "Not all PushShift shards are active. Query results may be incomplete.\n",
      "Not all PushShift shards are active. Query results may be incomplete.\n",
      "Not all PushShift shards are active. Query results may be incomplete.\n",
      "Not all PushShift shards are active. Query results may be incomplete.\n",
      "Not all PushShift shards are active. Query results may be incomplete.\n",
      "Not all PushShift shards are active. Query results may be incomplete.\n",
      "Not all PushShift shards are active. Query results may be incomplete.\n"
     ]
    },
    {
     "name": "stdout",
     "output_type": "stream",
     "text": [
      "Total:: Success Rate: 96.85% - Requests: 286 - Batches: 30 - Items Remaining: 3\n",
      "Finishing enrichment for 158 items\n"
     ]
    },
    {
     "name": "stderr",
     "output_type": "stream",
     "text": [
      "Not all PushShift shards are active. Query results may be incomplete.\n"
     ]
    },
    {
     "name": "stdout",
     "output_type": "stream",
     "text": [
      "3 result(s) not found in Pushshift\n",
      "Duration: 0:08:31.498924\n",
      "                                                   Title Score        Publish Date\n",
      "0      UK-based TV station fined for anti-Ahmadi Musl...    13 2019-04-18 22:59:58\n",
      "1      Swiss to support Belt and Road push during pre...    12 2019-04-18 22:59:56\n",
      "2      Gunmen kill bus passengers in Pakistan’s Baloc...     1 2019-04-18 22:59:14\n",
      "3      Germany’s economy ministry wants to extend sub...    10 2019-04-18 22:57:17\n",
      "4      Mittendrin statt nur dabei – DJ-Contest beim S...     1 2019-04-18 22:56:28\n",
      "...                                                  ...   ...                 ...\n",
      "23838  Jonathan Haidt: US professor to warn of safety...     8 2019-04-13 14:48:22\n",
      "23839  The cost of keeping Mark Zuckerberg safe rocke...     1 2019-04-13 14:47:12\n",
      "23840  Masters 2019: Tiger Woods accidentally tackled...     1 2019-04-13 14:47:11\n",
      "23841  Federal Judge Compares Trump’s Attacks On Cour...     1 2019-04-13 14:46:43\n",
      "23842             VW Golf GT TDi on Short Term Car Lease     1 2019-04-13 14:43:11\n",
      "\n",
      "[23843 rows x 3 columns]\n"
     ]
    }
   ],
   "source": [
    "start_time = datetime.now()\n",
    "print('Started at: {}'.format(start_time))\n",
    "\n",
    "submissionsApril = api.search_submissions(subreddit=\"worldnews\", after=1554062400, before=1556654400)\n",
    "\n",
    "subStats = {}\n",
    "subData = list()\n",
    "\n",
    "for sub in submissionsApril:\n",
    "    subData.append((sub['id'],sub['title'],sub['url'],sub['author'],sub['score'],sub['created']))\n",
    "    subStats[sub['id']] = subData\n",
    "\n",
    "    \n",
    "dfApril = pd.DataFrame(columns=['Post ID', 'Title', 'Url', 'Author', 'Score', 'Publish Date', 'Timestamp'])\n",
    "for sub in subData:\n",
    "    created = datetime.fromtimestamp(sub[5]) \n",
    "    new_row = {'Post ID':sub[0], 'Title':sub[1], 'Url':sub[2], 'Author':sub[3], 'Score':sub[4], 'Publish Date':created, 'Timestamp':sub[5]}\n",
    "    dfApril = dfApril.append(new_row, ignore_index=True)\n",
    "\n",
    "end_time = datetime.now()\n",
    "print('Duration: {}'.format(end_time - start_time))\n",
    "    \n",
    "print(dfApril[['Title', 'Score', 'Publish Date']]) \n",
    "csvName = year + \"month\" + 4 + \".csv\"\n",
    "dfApril.to_csv(csvName, index = False)"
   ]
  },
  {
   "cell_type": "code",
   "execution_count": 13,
   "id": "1ec51e4c",
   "metadata": {},
   "outputs": [
    {
     "name": "stdout",
     "output_type": "stream",
     "text": [
      "Started at: 2021-10-28 03:07:57.556480\n"
     ]
    },
    {
     "name": "stderr",
     "output_type": "stream",
     "text": [
      "Not all PushShift shards are active. Query results may be incomplete.\n"
     ]
    },
    {
     "name": "stdout",
     "output_type": "stream",
     "text": [
      "24466 result(s) available in Pushshift\n"
     ]
    },
    {
     "name": "stderr",
     "output_type": "stream",
     "text": [
      "Not all PushShift shards are active. Query results may be incomplete.\n",
      "Not all PushShift shards are active. Query results may be incomplete.\n",
      "Not all PushShift shards are active. Query results may be incomplete.\n",
      "Not all PushShift shards are active. Query results may be incomplete.\n",
      "Not all PushShift shards are active. Query results may be incomplete.\n",
      "Not all PushShift shards are active. Query results may be incomplete.\n",
      "Not all PushShift shards are active. Query results may be incomplete.\n",
      "Not all PushShift shards are active. Query results may be incomplete.\n",
      "Not all PushShift shards are active. Query results may be incomplete.\n",
      "Not all PushShift shards are active. Query results may be incomplete.\n",
      "Not all PushShift shards are active. Query results may be incomplete.\n",
      "Not all PushShift shards are active. Query results may be incomplete.\n",
      "Not all PushShift shards are active. Query results may be incomplete.\n",
      "Not all PushShift shards are active. Query results may be incomplete.\n",
      "Not all PushShift shards are active. Query results may be incomplete.\n",
      "Not all PushShift shards are active. Query results may be incomplete.\n",
      "Not all PushShift shards are active. Query results may be incomplete.\n",
      "Not all PushShift shards are active. Query results may be incomplete.\n",
      "Not all PushShift shards are active. Query results may be incomplete.\n",
      "Not all PushShift shards are active. Query results may be incomplete.\n",
      "Not all PushShift shards are active. Query results may be incomplete.\n",
      "Not all PushShift shards are active. Query results may be incomplete.\n",
      "Not all PushShift shards are active. Query results may be incomplete.\n",
      "Not all PushShift shards are active. Query results may be incomplete.\n",
      "Not all PushShift shards are active. Query results may be incomplete.\n",
      "Not all PushShift shards are active. Query results may be incomplete.\n",
      "Not all PushShift shards are active. Query results may be incomplete.\n",
      "Not all PushShift shards are active. Query results may be incomplete.\n",
      "Not all PushShift shards are active. Query results may be incomplete.\n",
      "Not all PushShift shards are active. Query results may be incomplete.\n"
     ]
    },
    {
     "name": "stdout",
     "output_type": "stream",
     "text": [
      "Total:: Success Rate: 96.32% - Requests: 299 - Batches: 30 - Items Remaining: 2\n",
      "Finishing enrichment for 412 items\n"
     ]
    },
    {
     "name": "stderr",
     "output_type": "stream",
     "text": [
      "Not all PushShift shards are active. Query results may be incomplete.\n"
     ]
    },
    {
     "name": "stdout",
     "output_type": "stream",
     "text": [
      "2 result(s) not found in Pushshift\n",
      "Duration: 0:09:01.526131\n",
      "                                                   Title Score        Publish Date\n",
      "0      Trump urges caution as Bolton and Pompeo tease...     9 2019-05-04 01:23:44\n",
      "1      Children in Philadelphia Muslim Society: ‘We w...     1 2019-05-04 01:13:48\n",
      "2      Russian-tied Trump Tower lobbyist and GOP oper...     1 2019-05-04 01:11:58\n",
      "3      Biodiversity crisis is about to put humanity a...  2669 2019-05-04 01:06:53\n",
      "4      Trump says Putin isn't getting involved in Ven...     2 2019-05-04 01:03:03\n",
      "...                                                  ...   ...                 ...\n",
      "24458   Oklahoma hopes to survive Arkansas River's wrath     1 2019-05-31 08:38:43\n",
      "24459  Even if Roe is upheld, abortion opponents are ...     1 2019-05-31 08:36:13\n",
      "24460  Watch Drake Call Draymond Green ‘Trash’ After ...     1 2019-05-31 08:33:14\n",
      "24461  J.K. Rowling to release ‘Harry Potter’ short s...     2 2019-05-31 08:31:17\n",
      "24462  Harvard study finds people who use dating apps...     4 2019-05-31 08:29:35\n",
      "\n",
      "[24463 rows x 3 columns]\n"
     ]
    }
   ],
   "source": [
    "start_time = datetime.now()\n",
    "print('Started at: {}'.format(start_time))\n",
    "\n",
    "submissionsMay = api.search_submissions(subreddit=\"worldnews\", after=1556654400, before=1559332800)\n",
    "\n",
    "subStats = {}\n",
    "subData = list()\n",
    "\n",
    "for sub in submissionsMay:\n",
    "    subData.append((sub['id'],sub['title'],sub['url'],sub['author'],sub['score'],sub['created']))\n",
    "    subStats[sub['id']] = subData\n",
    "\n",
    "    \n",
    "dfMay = pd.DataFrame(columns=['Post ID', 'Title', 'Url', 'Author', 'Score', 'Publish Date', 'Timestamp'])\n",
    "for sub in subData:\n",
    "    created = datetime.fromtimestamp(sub[5]) \n",
    "    new_row = {'Post ID':sub[0], 'Title':sub[1], 'Url':sub[2], 'Author':sub[3], 'Score':sub[4], 'Publish Date':created, 'Timestamp':sub[5]}\n",
    "    dfMay = dfMay.append(new_row, ignore_index=True)\n",
    "\n",
    "end_time = datetime.now()\n",
    "print('Duration: {}'.format(end_time - start_time))\n",
    "    \n",
    "print(dfMay[['Title', 'Score', 'Publish Date']]) \n",
    "csvName = year + \"month\" + 5 + \".csv\"\n",
    "dfMay.to_csv(csvName, index = False)"
   ]
  },
  {
   "cell_type": "code",
   "execution_count": 14,
   "id": "e7de86ae",
   "metadata": {},
   "outputs": [
    {
     "name": "stdout",
     "output_type": "stream",
     "text": [
      "Started at: 2021-10-28 03:16:59.426187\n"
     ]
    },
    {
     "name": "stderr",
     "output_type": "stream",
     "text": [
      "Not all PushShift shards are active. Query results may be incomplete.\n"
     ]
    },
    {
     "name": "stdout",
     "output_type": "stream",
     "text": [
      "20182 result(s) available in Pushshift\n"
     ]
    },
    {
     "name": "stderr",
     "output_type": "stream",
     "text": [
      "Not all PushShift shards are active. Query results may be incomplete.\n",
      "Not all PushShift shards are active. Query results may be incomplete.\n",
      "Not all PushShift shards are active. Query results may be incomplete.\n",
      "Not all PushShift shards are active. Query results may be incomplete.\n",
      "Not all PushShift shards are active. Query results may be incomplete.\n",
      "Not all PushShift shards are active. Query results may be incomplete.\n",
      "Not all PushShift shards are active. Query results may be incomplete.\n",
      "Not all PushShift shards are active. Query results may be incomplete.\n",
      "Not all PushShift shards are active. Query results may be incomplete.\n",
      "Not all PushShift shards are active. Query results may be incomplete.\n",
      "Not all PushShift shards are active. Query results may be incomplete.\n",
      "Not all PushShift shards are active. Query results may be incomplete.\n",
      "Not all PushShift shards are active. Query results may be incomplete.\n",
      "Not all PushShift shards are active. Query results may be incomplete.\n",
      "Not all PushShift shards are active. Query results may be incomplete.\n",
      "Not all PushShift shards are active. Query results may be incomplete.\n",
      "Not all PushShift shards are active. Query results may be incomplete.\n",
      "Not all PushShift shards are active. Query results may be incomplete.\n",
      "Not all PushShift shards are active. Query results may be incomplete.\n",
      "Not all PushShift shards are active. Query results may be incomplete.\n",
      "Not all PushShift shards are active. Query results may be incomplete.\n",
      "Not all PushShift shards are active. Query results may be incomplete.\n",
      "Not all PushShift shards are active. Query results may be incomplete.\n",
      "Not all PushShift shards are active. Query results may be incomplete.\n",
      "Not all PushShift shards are active. Query results may be incomplete.\n"
     ]
    },
    {
     "name": "stdout",
     "output_type": "stream",
     "text": [
      "Total:: Success Rate: 100.00% - Requests: 243 - Batches: 25 - Items Remaining: 7\n",
      "Finishing enrichment for 27 items\n"
     ]
    },
    {
     "name": "stderr",
     "output_type": "stream",
     "text": [
      "Not all PushShift shards are active. Query results may be incomplete.\n"
     ]
    },
    {
     "name": "stdout",
     "output_type": "stream",
     "text": [
      "7 result(s) not found in Pushshift\n",
      "Duration: 0:07:00.887426\n",
      "                                                   Title Score        Publish Date\n",
      "0      iTunes is dead, long live Apple Music, Apple T...     1 2019-06-03 22:59:53\n",
      "1                 Superbad’s McLovin Would Turn 38 Today     1 2019-06-03 22:59:52\n",
      "2      Pompeo tells Germany: Use Huawei and lose acce...    63 2019-06-03 22:54:23\n",
      "3      Gay rugby player faces deportation to Kenya as...     2 2019-06-03 22:53:00\n",
      "4      Teen mows chode on the lawn trump will land on...     8 2019-06-03 22:47:18\n",
      "...                                                  ...   ...                 ...\n",
      "20170  Venezuela crisis: Military force still an opti...     0 2019-06-26 15:44:17\n",
      "20171  Pilot who fell asleep while flying plane after...     3 2019-06-26 15:43:54\n",
      "20172       @ https://coupon.of.today #coupon #coupons |     1 2019-06-26 15:40:53\n",
      "20173   Canal in Thailand is filled up with used condoms    15 2019-06-26 15:40:34\n",
      "20174  Europe heat wave: Preparations include public ...   310 2019-06-26 15:39:55\n",
      "\n",
      "[20175 rows x 3 columns]\n"
     ]
    }
   ],
   "source": [
    "start_time = datetime.now()\n",
    "print('Started at: {}'.format(start_time))\n",
    "\n",
    "submissionsJune = api.search_submissions(subreddit=\"worldnews\", after=1559332800, before=1561924800)\n",
    "\n",
    "subStats = {}\n",
    "subData = list()\n",
    "\n",
    "for sub in submissionsJune:\n",
    "    subData.append((sub['id'],sub['title'],sub['url'],sub['author'],sub['score'],sub['created']))\n",
    "    subStats[sub['id']] = subData\n",
    "\n",
    "    \n",
    "dfJune = pd.DataFrame(columns=['Post ID', 'Title', 'Url', 'Author', 'Score', 'Publish Date', 'Timestamp'])\n",
    "for sub in subData:\n",
    "    created = datetime.fromtimestamp(sub[5]) \n",
    "    new_row = {'Post ID':sub[0], 'Title':sub[1], 'Url':sub[2], 'Author':sub[3], 'Score':sub[4], 'Publish Date':created, 'Timestamp':sub[5]}\n",
    "    dfJune = dfJune.append(new_row, ignore_index=True)\n",
    "\n",
    "end_time = datetime.now()\n",
    "print('Duration: {}'.format(end_time - start_time))\n",
    "    \n",
    "print(dfJune[['Title', 'Score', 'Publish Date']]) \n",
    "csvName = year + \"month\" + 6 + \".csv\"\n",
    "dfJune.to_csv(csvName, index = False)"
   ]
  },
  {
   "cell_type": "code",
   "execution_count": 15,
   "id": "6248fa4f",
   "metadata": {},
   "outputs": [
    {
     "name": "stdout",
     "output_type": "stream",
     "text": [
      "Started at: 2021-10-28 03:24:00.581896\n"
     ]
    },
    {
     "name": "stderr",
     "output_type": "stream",
     "text": [
      "Not all PushShift shards are active. Query results may be incomplete.\n"
     ]
    },
    {
     "name": "stdout",
     "output_type": "stream",
     "text": [
      "16411 result(s) available in Pushshift\n"
     ]
    },
    {
     "name": "stderr",
     "output_type": "stream",
     "text": [
      "Not all PushShift shards are active. Query results may be incomplete.\n",
      "Not all PushShift shards are active. Query results may be incomplete.\n",
      "Not all PushShift shards are active. Query results may be incomplete.\n",
      "Not all PushShift shards are active. Query results may be incomplete.\n",
      "Not all PushShift shards are active. Query results may be incomplete.\n",
      "Not all PushShift shards are active. Query results may be incomplete.\n",
      "Not all PushShift shards are active. Query results may be incomplete.\n",
      "Not all PushShift shards are active. Query results may be incomplete.\n",
      "Not all PushShift shards are active. Query results may be incomplete.\n",
      "Not all PushShift shards are active. Query results may be incomplete.\n",
      "Not all PushShift shards are active. Query results may be incomplete.\n",
      "Not all PushShift shards are active. Query results may be incomplete.\n",
      "Not all PushShift shards are active. Query results may be incomplete.\n",
      "Not all PushShift shards are active. Query results may be incomplete.\n",
      "Not all PushShift shards are active. Query results may be incomplete.\n",
      "Not all PushShift shards are active. Query results may be incomplete.\n",
      "Not all PushShift shards are active. Query results may be incomplete.\n",
      "Not all PushShift shards are active. Query results may be incomplete.\n",
      "Not all PushShift shards are active. Query results may be incomplete.\n",
      "Not all PushShift shards are active. Query results may be incomplete.\n"
     ]
    },
    {
     "name": "stdout",
     "output_type": "stream",
     "text": [
      "Total:: Success Rate: 100.00% - Requests: 197 - Batches: 20 - Items Remaining: 1\n"
     ]
    },
    {
     "name": "stderr",
     "output_type": "stream",
     "text": [
      "Not all PushShift shards are active. Query results may be incomplete.\n"
     ]
    },
    {
     "name": "stdout",
     "output_type": "stream",
     "text": [
      "1 result(s) not found in Pushshift\n",
      "Duration: 0:05:29.168939\n",
      "                                                   Title Score        Publish Date\n",
      "0      Jeffrey Epstein Hoped to Seed Human Race With ...     1 2019-07-31 22:59:50\n",
      "1      UK: Boris Johnson's visit to Wales seeks to re...     1 2019-07-31 22:58:26\n",
      "2      Woman breaks down as she is publicly whipped 1...    31 2019-07-31 22:56:55\n",
      "3      India just passed an amendment to an (already ...     1 2019-07-31 22:49:50\n",
      "4      Northern First Nations will need trauma suppor...     1 2019-07-31 22:45:19\n",
      "...                                                  ...   ...                 ...\n",
      "16405  3 Bước Điều Khiển Android Tivi Box Bằng Điện T...     1 2019-07-23 12:26:13\n",
      "16406  Half A Billion Fewer Animals Were Killed Since...     1 2019-07-23 12:25:47\n",
      "16407  Thiết kế nội thất chung cư Housinco Grand Towe...     1 2019-07-23 12:25:11\n",
      "16408  مراكز متخصصه فريجيدير *-* 01023140280 فريجيدير...     1 2019-07-23 12:24:07\n",
      "16409                    Thuốc Chữa Bệnh Sùi Mào Gà Ở Nữ     1 2019-07-23 12:23:07\n",
      "\n",
      "[16410 rows x 3 columns]\n"
     ]
    }
   ],
   "source": [
    "start_time = datetime.now()\n",
    "print('Started at: {}'.format(start_time))\n",
    "\n",
    "submissionsJuly = api.search_submissions(subreddit=\"worldnews\", after=1561924800, before=1564603200)\n",
    "\n",
    "subStats = {}\n",
    "subData = list()\n",
    "\n",
    "for sub in submissionsJuly:\n",
    "    subData.append((sub['id'],sub['title'],sub['url'],sub['author'],sub['score'],sub['created']))\n",
    "    subStats[sub['id']] = subData\n",
    "\n",
    "    \n",
    "dfJuly = pd.DataFrame(columns=['Post ID', 'Title', 'Url', 'Author', 'Score', 'Publish Date', 'Timestamp'])\n",
    "for sub in subData:\n",
    "    created = datetime.fromtimestamp(sub[5]) \n",
    "    new_row = {'Post ID':sub[0], 'Title':sub[1], 'Url':sub[2], 'Author':sub[3], 'Score':sub[4], 'Publish Date':created, 'Timestamp':sub[5]}\n",
    "    dfJuly = dfJuly.append(new_row, ignore_index=True)\n",
    "\n",
    "end_time = datetime.now()\n",
    "print('Duration: {}'.format(end_time - start_time))\n",
    "    \n",
    "print(dfJuly[['Title', 'Score', 'Publish Date']]) \n",
    "csvName = year + \"month\" + 7 + \".csv\"\n",
    "dfJuly.to_csv(csvName, index = False)"
   ]
  },
  {
   "cell_type": "code",
   "execution_count": 16,
   "id": "8cdb5f13",
   "metadata": {},
   "outputs": [
    {
     "name": "stdout",
     "output_type": "stream",
     "text": [
      "Started at: 2021-10-28 03:29:29.977161\n"
     ]
    },
    {
     "name": "stderr",
     "output_type": "stream",
     "text": [
      "Not all PushShift shards are active. Query results may be incomplete.\n"
     ]
    },
    {
     "name": "stdout",
     "output_type": "stream",
     "text": [
      "17000 result(s) available in Pushshift\n"
     ]
    },
    {
     "name": "stderr",
     "output_type": "stream",
     "text": [
      "Not all PushShift shards are active. Query results may be incomplete.\n",
      "Not all PushShift shards are active. Query results may be incomplete.\n",
      "Not all PushShift shards are active. Query results may be incomplete.\n",
      "Not all PushShift shards are active. Query results may be incomplete.\n",
      "Not all PushShift shards are active. Query results may be incomplete.\n",
      "Not all PushShift shards are active. Query results may be incomplete.\n",
      "Not all PushShift shards are active. Query results may be incomplete.\n",
      "Not all PushShift shards are active. Query results may be incomplete.\n",
      "Not all PushShift shards are active. Query results may be incomplete.\n",
      "Not all PushShift shards are active. Query results may be incomplete.\n",
      "Not all PushShift shards are active. Query results may be incomplete.\n",
      "Not all PushShift shards are active. Query results may be incomplete.\n",
      "Not all PushShift shards are active. Query results may be incomplete.\n",
      "Not all PushShift shards are active. Query results may be incomplete.\n",
      "Not all PushShift shards are active. Query results may be incomplete.\n",
      "Not all PushShift shards are active. Query results may be incomplete.\n",
      "Not all PushShift shards are active. Query results may be incomplete.\n",
      "Not all PushShift shards are active. Query results may be incomplete.\n",
      "Not all PushShift shards are active. Query results may be incomplete.\n",
      "Not all PushShift shards are active. Query results may be incomplete.\n",
      "Not all PushShift shards are active. Query results may be incomplete.\n",
      "Not all PushShift shards are active. Query results may be incomplete.\n"
     ]
    },
    {
     "name": "stdout",
     "output_type": "stream",
     "text": [
      "Total:: Success Rate: 100.00% - Requests: 205 - Batches: 21 - Items Remaining: 1\n",
      "Finishing enrichment for 165 items\n",
      "1 result(s) not found in Pushshift\n",
      "Duration: 0:05:45.038672\n",
      "                                                   Title  Score        Publish Date\n",
      "0      Marriott International announced that it will ...  14447 2019-08-28 20:26:05\n",
      "1      Yemen government forces reclaimed the interim ...     15 2019-08-28 20:23:22\n",
      "2      Orangutan population falls by 25 every day - a...   1100 2019-08-28 20:22:21\n",
      "3      Amazon Rainforest Fires - Why is it a matter o...      0 2019-08-28 20:22:03\n",
      "4      Archeologists uncover biggest known child sacr...      4 2019-08-28 20:21:20\n",
      "...                                                  ...    ...                 ...\n",
      "16994                                    مروحية القياصرة      1 2019-08-23 13:39:27\n",
      "16995  Afghan Files military whistleblower David McBr...      7 2019-08-23 13:34:27\n",
      "16996  Understanding India's O-SMART Scheme for Ocean...      5 2019-08-23 13:33:18\n",
      "16997  No, vaccines are not responsible for sudden in...      1 2019-08-23 13:32:53\n",
      "16998                              Root Canal Specialist      1 2019-08-23 13:32:42\n",
      "\n",
      "[16999 rows x 3 columns]\n"
     ]
    }
   ],
   "source": [
    "start_time = datetime.now()\n",
    "print('Started at: {}'.format(start_time))\n",
    "\n",
    "submissionsAugust = api.search_submissions(subreddit=\"worldnews\", after=1564603200, before=1567281600)\n",
    "\n",
    "subStats = {}\n",
    "subData = list()\n",
    "\n",
    "for sub in submissionsAugust:\n",
    "    subData.append((sub['id'],sub['title'],sub['url'],sub['author'],sub['score'],sub['created']))\n",
    "    subStats[sub['id']] = subData\n",
    "\n",
    "    \n",
    "dfAugust = pd.DataFrame(columns=['Post ID', 'Title', 'Url', 'Author', 'Score', 'Publish Date', 'Timestamp'])\n",
    "for sub in subData:\n",
    "    created = datetime.fromtimestamp(sub[5]) \n",
    "    new_row = {'Post ID':sub[0], 'Title':sub[1], 'Url':sub[2], 'Author':sub[3], 'Score':sub[4], 'Publish Date':created, 'Timestamp':sub[5]}\n",
    "    dfAugust = dfAugust.append(new_row, ignore_index=True)\n",
    "\n",
    "end_time = datetime.now()\n",
    "print('Duration: {}'.format(end_time - start_time))\n",
    "    \n",
    "print(dfAugust[['Title', 'Score', 'Publish Date']]) \n",
    "csvName = year + \"month\" + 8 + \".csv\"\n",
    "dfAugust.to_csv(csvName, index = False)"
   ]
  },
  {
   "cell_type": "code",
   "execution_count": 17,
   "id": "45270328",
   "metadata": {},
   "outputs": [
    {
     "name": "stdout",
     "output_type": "stream",
     "text": [
      "Started at: 2021-10-28 03:35:15.242667\n"
     ]
    },
    {
     "name": "stderr",
     "output_type": "stream",
     "text": [
      "Not all PushShift shards are active. Query results may be incomplete.\n"
     ]
    },
    {
     "name": "stdout",
     "output_type": "stream",
     "text": [
      "15717 result(s) available in Pushshift\n"
     ]
    },
    {
     "name": "stderr",
     "output_type": "stream",
     "text": [
      "Not all PushShift shards are active. Query results may be incomplete.\n",
      "Not all PushShift shards are active. Query results may be incomplete.\n",
      "Not all PushShift shards are active. Query results may be incomplete.\n",
      "Not all PushShift shards are active. Query results may be incomplete.\n",
      "Not all PushShift shards are active. Query results may be incomplete.\n",
      "Not all PushShift shards are active. Query results may be incomplete.\n",
      "Not all PushShift shards are active. Query results may be incomplete.\n",
      "Not all PushShift shards are active. Query results may be incomplete.\n",
      "Not all PushShift shards are active. Query results may be incomplete.\n",
      "Not all PushShift shards are active. Query results may be incomplete.\n",
      "Not all PushShift shards are active. Query results may be incomplete.\n",
      "Not all PushShift shards are active. Query results may be incomplete.\n",
      "Not all PushShift shards are active. Query results may be incomplete.\n",
      "Not all PushShift shards are active. Query results may be incomplete.\n",
      "Not all PushShift shards are active. Query results may be incomplete.\n",
      "Not all PushShift shards are active. Query results may be incomplete.\n",
      "Not all PushShift shards are active. Query results may be incomplete.\n",
      "Not all PushShift shards are active. Query results may be incomplete.\n",
      "Not all PushShift shards are active. Query results may be incomplete.\n"
     ]
    },
    {
     "name": "stdout",
     "output_type": "stream",
     "text": [
      "Total:: Success Rate: 100.00% - Requests: 189 - Batches: 19 - Items Remaining: 0\n",
      "Finishing enrichment for 202 items\n",
      "Duration: 0:05:13.608116\n",
      "                                                   Title Score        Publish Date\n",
      "0      In Taiwan, Many See Hong Kong Protests as Warning    61 2019-09-03 22:57:38\n",
      "1      Johnson loses majority as Brexit rebels get ch...    33 2019-09-03 22:51:06\n",
      "2      Assange in 'solitary confinement' at embassy, ...     0 2019-09-03 22:49:10\n",
      "3      How a Scottish botanist stole China's tea and ...    12 2019-09-03 22:48:15\n",
      "4           ঢাকার বাস টার্মিনাল| ট্র্যাভেল নিউজ বাংলাদেশ     1 2019-09-03 22:47:06\n",
      "...                                                  ...   ...                 ...\n",
      "15712  'This is not Mars': Massive Wildfires causes I...   258 2019-09-23 15:44:20\n",
      "15713  At least 35 people at wedding party killed dur...    12 2019-09-23 15:44:03\n",
      "15714  I’m Bigger Than The Owner Of This Show – Tacha...     1 2019-09-23 15:38:40\n",
      "15715  Phòng khách có nội thất màu vàng mang lại cảm ...     1 2019-09-23 15:37:57\n",
      "15716  Ahead of UN summit, leading scientists warn cl...     1 2019-09-23 15:37:09\n",
      "\n",
      "[15717 rows x 3 columns]\n"
     ]
    }
   ],
   "source": [
    "start_time = datetime.now()\n",
    "print('Started at: {}'.format(start_time))\n",
    "\n",
    "submissionsSeptember = api.search_submissions(subreddit=\"worldnews\", after=1567281600, before=1569873600)\n",
    "\n",
    "subStats = {}\n",
    "subData = list()\n",
    "\n",
    "for sub in submissionsSeptember:\n",
    "    subData.append((sub['id'],sub['title'],sub['url'],sub['author'],sub['score'],sub['created']))\n",
    "    subStats[sub['id']] = subData\n",
    "\n",
    "    \n",
    "dfSeptember = pd.DataFrame(columns=['Post ID', 'Title', 'Url', 'Author', 'Score', 'Publish Date', 'Timestamp'])\n",
    "for sub in subData:\n",
    "    created = datetime.fromtimestamp(sub[5]) \n",
    "    new_row = {'Post ID':sub[0], 'Title':sub[1], 'Url':sub[2], 'Author':sub[3], 'Score':sub[4], 'Publish Date':created, 'Timestamp':sub[5]}\n",
    "    dfSeptember = dfSeptember.append(new_row, ignore_index=True)\n",
    "\n",
    "end_time = datetime.now()\n",
    "print('Duration: {}'.format(end_time - start_time))\n",
    "    \n",
    "print(dfSeptember[['Title', 'Score', 'Publish Date']])\n",
    "csvName = year + \"month\" + 9 + \".csv\"\n",
    "dfSeptember.to_csv(csvName, index = False)"
   ]
  },
  {
   "cell_type": "code",
   "execution_count": 18,
   "id": "f5379b80",
   "metadata": {},
   "outputs": [
    {
     "name": "stdout",
     "output_type": "stream",
     "text": [
      "Started at: 2021-10-28 03:40:29.111455\n"
     ]
    },
    {
     "name": "stderr",
     "output_type": "stream",
     "text": [
      "Not all PushShift shards are active. Query results may be incomplete.\n"
     ]
    },
    {
     "name": "stdout",
     "output_type": "stream",
     "text": [
      "19389 result(s) available in Pushshift\n"
     ]
    },
    {
     "name": "stderr",
     "output_type": "stream",
     "text": [
      "Not all PushShift shards are active. Query results may be incomplete.\n",
      "Not all PushShift shards are active. Query results may be incomplete.\n",
      "Not all PushShift shards are active. Query results may be incomplete.\n",
      "Not all PushShift shards are active. Query results may be incomplete.\n",
      "Not all PushShift shards are active. Query results may be incomplete.\n",
      "Not all PushShift shards are active. Query results may be incomplete.\n",
      "Not all PushShift shards are active. Query results may be incomplete.\n",
      "Not all PushShift shards are active. Query results may be incomplete.\n",
      "Not all PushShift shards are active. Query results may be incomplete.\n",
      "Not all PushShift shards are active. Query results may be incomplete.\n",
      "Not all PushShift shards are active. Query results may be incomplete.\n",
      "Not all PushShift shards are active. Query results may be incomplete.\n",
      "Not all PushShift shards are active. Query results may be incomplete.\n",
      "Not all PushShift shards are active. Query results may be incomplete.\n",
      "Not all PushShift shards are active. Query results may be incomplete.\n",
      "Not all PushShift shards are active. Query results may be incomplete.\n",
      "Not all PushShift shards are active. Query results may be incomplete.\n",
      "Not all PushShift shards are active. Query results may be incomplete.\n",
      "Not all PushShift shards are active. Query results may be incomplete.\n",
      "Not all PushShift shards are active. Query results may be incomplete.\n",
      "Not all PushShift shards are active. Query results may be incomplete.\n",
      "Not all PushShift shards are active. Query results may be incomplete.\n",
      "Not all PushShift shards are active. Query results may be incomplete.\n",
      "Not all PushShift shards are active. Query results may be incomplete.\n"
     ]
    },
    {
     "name": "stdout",
     "output_type": "stream",
     "text": [
      "Total:: Success Rate: 100.00% - Requests: 237 - Batches: 24 - Items Remaining: 1\n",
      "Finishing enrichment for 227 items\n"
     ]
    },
    {
     "name": "stderr",
     "output_type": "stream",
     "text": [
      "Not all PushShift shards are active. Query results may be incomplete.\n"
     ]
    },
    {
     "name": "stdout",
     "output_type": "stream",
     "text": [
      "1 result(s) not found in Pushshift\n",
      "Duration: 0:06:48.332553\n",
      "                                                   Title Score        Publish Date\n",
      "0      Left-Wing Opposition Party Vetevendosje (Self-...    43 2019-10-07 03:47:21\n",
      "1      Solicitar Orçamento de Empresas de Conserto de...     1 2019-10-07 03:46:25\n",
      "2      Kuo: iPhone 11 Demand and Upcoming Launch of '...     1 2019-10-07 03:42:28\n",
      "3      Giuliani Associates Pressured Ukrainian Govern...   419 2019-10-07 03:32:39\n",
      "4      Chinese basketball league won’t work with Hous...    32 2019-10-07 03:19:22\n",
      "...                                                  ...   ...                 ...\n",
      "19383  Jeffrey Epstein's autopsy more consistent with...     7 2019-10-30 13:46:46\n",
      "19384  Forensic Pathologist says Epstein’s Death is M...     1 2019-10-30 13:46:40\n",
      "19385  Trump’s al-Baghdadi Speech vs. Obama’s Bin Lad...     1 2019-10-30 13:44:15\n",
      "19386                                     green parakeet     1 2019-10-30 13:43:14\n",
      "19387                انسحاب 10 آلاف جندي سوداني من اليمن     1 2019-10-30 13:39:21\n",
      "\n",
      "[19388 rows x 3 columns]\n"
     ]
    }
   ],
   "source": [
    "start_time = datetime.now()\n",
    "print('Started at: {}'.format(start_time))\n",
    "\n",
    "submissionsOctober = api.search_submissions(subreddit=\"worldnews\", after=1569873600, before=1572552000)\n",
    "\n",
    "subStats = {}\n",
    "subData = list()\n",
    "\n",
    "for sub in submissionsOctober:\n",
    "    subData.append((sub['id'],sub['title'],sub['url'],sub['author'],sub['score'],sub['created']))\n",
    "    subStats[sub['id']] = subData\n",
    "\n",
    "    \n",
    "dfOctober = pd.DataFrame(columns=['Post ID', 'Title', 'Url', 'Author', 'Score', 'Publish Date', 'Timestamp'])\n",
    "for sub in subData:\n",
    "    created = datetime.fromtimestamp(sub[5]) \n",
    "    new_row = {'Post ID':sub[0], 'Title':sub[1], 'Url':sub[2], 'Author':sub[3], 'Score':sub[4], 'Publish Date':created, 'Timestamp':sub[5]}\n",
    "    dfOctober = dfOctober.append(new_row, ignore_index=True)\n",
    "\n",
    "end_time = datetime.now()\n",
    "print('Duration: {}'.format(end_time - start_time))\n",
    "    \n",
    "print(dfOctober[['Title', 'Score', 'Publish Date']])\n",
    "csvName = year + \"month\" + 10 + \".csv\"\n",
    "dfOctober.to_csv(csvName, index = False)"
   ]
  },
  {
   "cell_type": "code",
   "execution_count": 19,
   "id": "acd61c9a",
   "metadata": {},
   "outputs": [
    {
     "name": "stdout",
     "output_type": "stream",
     "text": [
      "Started at: 2021-10-28 03:47:17.726536\n"
     ]
    },
    {
     "name": "stderr",
     "output_type": "stream",
     "text": [
      "Not all PushShift shards are active. Query results may be incomplete.\n"
     ]
    },
    {
     "name": "stdout",
     "output_type": "stream",
     "text": [
      "17599 result(s) available in Pushshift\n"
     ]
    },
    {
     "name": "stderr",
     "output_type": "stream",
     "text": [
      "Not all PushShift shards are active. Query results may be incomplete.\n",
      "Not all PushShift shards are active. Query results may be incomplete.\n",
      "Not all PushShift shards are active. Query results may be incomplete.\n",
      "Not all PushShift shards are active. Query results may be incomplete.\n",
      "Not all PushShift shards are active. Query results may be incomplete.\n",
      "Not all PushShift shards are active. Query results may be incomplete.\n",
      "Not all PushShift shards are active. Query results may be incomplete.\n",
      "Not all PushShift shards are active. Query results may be incomplete.\n",
      "Not all PushShift shards are active. Query results may be incomplete.\n",
      "Not all PushShift shards are active. Query results may be incomplete.\n",
      "Not all PushShift shards are active. Query results may be incomplete.\n",
      "Not all PushShift shards are active. Query results may be incomplete.\n",
      "Not all PushShift shards are active. Query results may be incomplete.\n",
      "Not all PushShift shards are active. Query results may be incomplete.\n",
      "Not all PushShift shards are active. Query results may be incomplete.\n",
      "Not all PushShift shards are active. Query results may be incomplete.\n",
      "Not all PushShift shards are active. Query results may be incomplete.\n",
      "Not all PushShift shards are active. Query results may be incomplete.\n",
      "Not all PushShift shards are active. Query results may be incomplete.\n",
      "Not all PushShift shards are active. Query results may be incomplete.\n",
      "Not all PushShift shards are active. Query results may be incomplete.\n",
      "Not all PushShift shards are active. Query results may be incomplete.\n"
     ]
    },
    {
     "name": "stdout",
     "output_type": "stream",
     "text": [
      "Total:: Success Rate: 100.00% - Requests: 212 - Batches: 22 - Items Remaining: 0\n",
      "Finishing enrichment for 186 items\n",
      "Duration: 0:06:00.676527\n",
      "                                                   Title Score        Publish Date\n",
      "0      New Disclosure Loophole Allows Saudi Aramco Lo...     1 2019-11-18 21:59:19\n",
      "1              Jewish settlements no longer illegal - US     0 2019-11-18 21:59:03\n",
      "2      Premier Li Keqiang has re-emphasised coal as C...    10 2019-11-18 21:53:48\n",
      "3      Leaked intelligence reports expose how Iran do...     6 2019-11-18 21:49:03\n",
      "4      Germany makes measles vaccination compulsory f...  3196 2019-11-18 21:48:31\n",
      "...                                                  ...   ...                 ...\n",
      "17593    Sheb-e-Abi Talib Sa Karbla Tak 20 November 2019     1 2019-11-20 14:43:28\n",
      "17594  Trump-Cook 'bromance' culminates with visit to...     1 2019-11-20 14:42:57\n",
      "17595  Corbyn wins clear debate victory against Boris...  4109 2019-11-20 14:41:47\n",
      "17596  The Senate unanimously passed a bill to suppor...     1 2019-11-20 14:41:19\n",
      "17597  Presdient Evo Morales’s forced resignation, in...     1 2019-11-20 14:40:52\n",
      "\n",
      "[17598 rows x 3 columns]\n"
     ]
    }
   ],
   "source": [
    "start_time = datetime.now()\n",
    "print('Started at: {}'.format(start_time))\n",
    "\n",
    "submissionsNovember = api.search_submissions(subreddit=\"worldnews\", after=1572552000, before=1575144000)\n",
    "\n",
    "subStats = {}\n",
    "subData = list()\n",
    "\n",
    "for sub in submissionsNovember:\n",
    "    subData.append((sub['id'],sub['title'],sub['url'],sub['author'],sub['score'],sub['created']))\n",
    "    subStats[sub['id']] = subData\n",
    "\n",
    "    \n",
    "dfNovember = pd.DataFrame(columns=['Post ID', 'Title', 'Url', 'Author', 'Score', 'Publish Date', 'Timestamp'])\n",
    "for sub in subData:\n",
    "    created = datetime.fromtimestamp(sub[5]) \n",
    "    new_row = {'Post ID':sub[0], 'Title':sub[1], 'Url':sub[2], 'Author':sub[3], 'Score':sub[4], 'Publish Date':created, 'Timestamp':sub[5]}\n",
    "    dfNovember = dfNovember.append(new_row, ignore_index=True)\n",
    "\n",
    "end_time = datetime.now()\n",
    "print('Duration: {}'.format(end_time - start_time))\n",
    "    \n",
    "print(dfNovember[['Title', 'Score', 'Publish Date']])\n",
    "csvName = year + \"month\" + 11 + \".csv\"\n",
    "dfNovember.to_csv(csvName, index = False)"
   ]
  },
  {
   "cell_type": "code",
   "execution_count": 20,
   "id": "7044bf77",
   "metadata": {},
   "outputs": [
    {
     "name": "stdout",
     "output_type": "stream",
     "text": [
      "Started at: 2021-10-28 03:53:18.645600\n"
     ]
    },
    {
     "name": "stderr",
     "output_type": "stream",
     "text": [
      "Not all PushShift shards are active. Query results may be incomplete.\n"
     ]
    },
    {
     "name": "stdout",
     "output_type": "stream",
     "text": [
      "17057 result(s) available in Pushshift\n"
     ]
    },
    {
     "name": "stderr",
     "output_type": "stream",
     "text": [
      "Not all PushShift shards are active. Query results may be incomplete.\n",
      "Not all PushShift shards are active. Query results may be incomplete.\n",
      "Not all PushShift shards are active. Query results may be incomplete.\n",
      "Not all PushShift shards are active. Query results may be incomplete.\n",
      "Not all PushShift shards are active. Query results may be incomplete.\n",
      "Not all PushShift shards are active. Query results may be incomplete.\n",
      "Not all PushShift shards are active. Query results may be incomplete.\n",
      "Not all PushShift shards are active. Query results may be incomplete.\n",
      "Not all PushShift shards are active. Query results may be incomplete.\n",
      "Not all PushShift shards are active. Query results may be incomplete.\n",
      "Not all PushShift shards are active. Query results may be incomplete.\n",
      "Not all PushShift shards are active. Query results may be incomplete.\n",
      "Not all PushShift shards are active. Query results may be incomplete.\n",
      "Not all PushShift shards are active. Query results may be incomplete.\n",
      "Not all PushShift shards are active. Query results may be incomplete.\n",
      "Not all PushShift shards are active. Query results may be incomplete.\n",
      "Not all PushShift shards are active. Query results may be incomplete.\n",
      "Not all PushShift shards are active. Query results may be incomplete.\n",
      "Not all PushShift shards are active. Query results may be incomplete.\n",
      "Not all PushShift shards are active. Query results may be incomplete.\n",
      "Not all PushShift shards are active. Query results may be incomplete.\n"
     ]
    },
    {
     "name": "stdout",
     "output_type": "stream",
     "text": [
      "Total:: Success Rate: 100.00% - Requests: 210 - Batches: 21 - Items Remaining: 2\n",
      "Finishing enrichment for 204 items\n"
     ]
    },
    {
     "name": "stderr",
     "output_type": "stream",
     "text": [
      "Not all PushShift shards are active. Query results may be incomplete.\n"
     ]
    },
    {
     "name": "stdout",
     "output_type": "stream",
     "text": [
      "2 result(s) not found in Pushshift\n",
      "Duration: 0:05:59.269251\n",
      "                                                   Title Score        Publish Date\n",
      "0      UK General Elections: Boris Johnson's Party ha...    12 2019-12-13 07:34:26\n",
      "1      Где смотреть фильмы и кино онлайн. Подборка пл...     1 2019-12-13 07:26:20\n",
      "2      Boris Johnson Secures a Comfortable U.K. Elect...     1 2019-12-13 07:23:53\n",
      "3      Boris Johnson's Conservatives win majority in ...    53 2019-12-13 07:20:23\n",
      "4      Gasps and Screams From London Crowd as Exit Po...     1 2019-12-13 07:13:22\n",
      "...                                                  ...   ...                 ...\n",
      "17050  8 die in protests against citizenship law acro...  1321 2019-12-20 10:30:41\n",
      "17051  What a film. You guys are in for such a treat!...     1 2019-12-20 10:29:41\n",
      "17052                               İznik Yetkili Servis     1 2019-12-20 10:25:11\n",
      "17053  India: Fresh clashes as deadly citizenship law...    47 2019-12-20 10:20:48\n",
      "17054  Police seize $10m in donations intended for pr...   372 2019-12-20 10:16:33\n",
      "\n",
      "[17055 rows x 3 columns]\n"
     ]
    }
   ],
   "source": [
    "start_time = datetime.now()\n",
    "print('Started at: {}'.format(start_time))\n",
    "\n",
    "submissionsDecember = api.search_submissions(subreddit=\"worldnews\", after=1575144000, before=1577822400)\n",
    "\n",
    "subStats = {}\n",
    "subData = list()\n",
    "\n",
    "for sub in submissionsDecember:\n",
    "    subData.append((sub['id'],sub['title'],sub['url'],sub['author'],sub['score'],sub['created']))\n",
    "    subStats[sub['id']] = subData\n",
    "\n",
    "    \n",
    "dfDecember = pd.DataFrame(columns=['Post ID', 'Title', 'Url', 'Author', 'Score', 'Publish Date', 'Timestamp'])\n",
    "for sub in subData:\n",
    "    created = datetime.fromtimestamp(sub[5]) \n",
    "    new_row = {'Post ID':sub[0], 'Title':sub[1], 'Url':sub[2], 'Author':sub[3], 'Score':sub[4], 'Publish Date':created, 'Timestamp':sub[5]}\n",
    "    dfDecember = dfDecember.append(new_row, ignore_index=True)\n",
    "\n",
    "end_time = datetime.now()\n",
    "print('Duration: {}'.format(end_time - start_time))\n",
    "    \n",
    "print(dfDecember[['Title', 'Score', 'Publish Date']]) \n",
    "csvName = year + \"month\" + 12 + \".csv\"\n",
    "dfDecember.to_csv(csvName, index = False)"
   ]
  },
  {
   "cell_type": "code",
   "execution_count": 21,
   "id": "295dee4f",
   "metadata": {},
   "outputs": [],
   "source": []
  },
  {
   "cell_type": "code",
   "execution_count": 22,
   "id": "8747f1d6",
   "metadata": {},
   "outputs": [],
   "source": []
  },
  {
   "cell_type": "code",
   "execution_count": 23,
   "id": "f2aafa3d",
   "metadata": {},
   "outputs": [],
   "source": []
  },
  {
   "cell_type": "code",
   "execution_count": 24,
   "id": "8332a19e",
   "metadata": {},
   "outputs": [],
   "source": []
  },
  {
   "cell_type": "code",
   "execution_count": 25,
   "id": "5db857c6",
   "metadata": {},
   "outputs": [],
   "source": []
  },
  {
   "cell_type": "code",
   "execution_count": 26,
   "id": "f45a02c2",
   "metadata": {},
   "outputs": [],
   "source": []
  },
  {
   "cell_type": "code",
   "execution_count": 27,
   "id": "12a1a4ba",
   "metadata": {},
   "outputs": [],
   "source": []
  },
  {
   "cell_type": "code",
   "execution_count": 28,
   "id": "296a1581",
   "metadata": {},
   "outputs": [],
   "source": []
  },
  {
   "cell_type": "code",
   "execution_count": 29,
   "id": "baa50507",
   "metadata": {},
   "outputs": [],
   "source": []
  },
  {
   "cell_type": "code",
   "execution_count": 30,
   "id": "aab6498c",
   "metadata": {},
   "outputs": [],
   "source": []
  },
  {
   "cell_type": "code",
   "execution_count": null,
   "id": "843a221f",
   "metadata": {},
   "outputs": [],
   "source": []
  }
 ],
 "metadata": {
  "kernelspec": {
   "display_name": "Python 3",
   "language": "python",
   "name": "python3"
  },
  "language_info": {
   "codemirror_mode": {
    "name": "ipython",
    "version": 3
   },
   "file_extension": ".py",
   "mimetype": "text/x-python",
   "name": "python",
   "nbconvert_exporter": "python",
   "pygments_lexer": "ipython3",
   "version": "3.8.8"
  }
 },
 "nbformat": 4,
 "nbformat_minor": 5
}
