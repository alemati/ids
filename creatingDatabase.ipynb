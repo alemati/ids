{
 "cells": [
  {
   "cell_type": "code",
   "execution_count": 110,
   "id": "3241271e",
   "metadata": {},
   "outputs": [],
   "source": [
    "import pandas as pd\n",
    "import requests\n",
    "import json\n",
    "import csv\n",
    "import time\n",
    "import datetime\n",
    "import praw\n",
    "from pmaw import PushshiftAPI\n",
    "import praw\n",
    "from datetime import datetime"
   ]
  },
  {
   "cell_type": "code",
   "execution_count": 111,
   "id": "7f704a39",
   "metadata": {},
   "outputs": [],
   "source": [
    "column_names = ['Date']\n",
    "for i in range(1,26):\n",
    "    column_names.append('Top'+str(i))"
   ]
  },
  {
   "cell_type": "code",
   "execution_count": 112,
   "id": "f17f6ac9",
   "metadata": {},
   "outputs": [],
   "source": [
    "monthNews = pd.read_csv('2020Data/January2020.csv')\n",
    "monthNews = monthNews.drop(monthNews.columns[0], axis=1)"
   ]
  },
  {
   "cell_type": "code",
   "execution_count": 113,
   "id": "addcb56c",
   "metadata": {},
   "outputs": [
    {
     "data": {
      "text/html": [
       "<div>\n",
       "<style scoped>\n",
       "    .dataframe tbody tr th:only-of-type {\n",
       "        vertical-align: middle;\n",
       "    }\n",
       "\n",
       "    .dataframe tbody tr th {\n",
       "        vertical-align: top;\n",
       "    }\n",
       "\n",
       "    .dataframe thead th {\n",
       "        text-align: right;\n",
       "    }\n",
       "</style>\n",
       "<table border=\"1\" class=\"dataframe\">\n",
       "  <thead>\n",
       "    <tr style=\"text-align: right;\">\n",
       "      <th></th>\n",
       "      <th>Post ID</th>\n",
       "      <th>Title</th>\n",
       "      <th>Url</th>\n",
       "      <th>Author</th>\n",
       "      <th>Score</th>\n",
       "      <th>Publish Date</th>\n",
       "      <th>Timestamp</th>\n",
       "      <th>Day</th>\n",
       "    </tr>\n",
       "  </thead>\n",
       "  <tbody>\n",
       "    <tr>\n",
       "      <th>0</th>\n",
       "      <td>el6ijt</td>\n",
       "      <td>Israel's Defense Chief Wants Gazans Jailed as ...</td>\n",
       "      <td>https://www.haaretz.com/israel-news/.premium-i...</td>\n",
       "      <td>NaN</td>\n",
       "      <td>4</td>\n",
       "      <td>2020-01-07 06:47:49</td>\n",
       "      <td>1.578372e+09</td>\n",
       "      <td>7</td>\n",
       "    </tr>\n",
       "    <tr>\n",
       "      <th>1</th>\n",
       "      <td>el6i0u</td>\n",
       "      <td>ट्रंप के महाभियोग पर गवाही देने के लिए तैयार ज...</td>\n",
       "      <td>https://www.shreemanglamlive.com/john-bolton-r...</td>\n",
       "      <td>ShreeManglamLive</td>\n",
       "      <td>1</td>\n",
       "      <td>2020-01-07 06:46:35</td>\n",
       "      <td>1.578372e+09</td>\n",
       "      <td>7</td>\n",
       "    </tr>\n",
       "    <tr>\n",
       "      <th>2</th>\n",
       "      <td>el6g4q</td>\n",
       "      <td>अमेरिका-ईरान विवाद के बीच पाकिस्‍तान ने कहा- अ...</td>\n",
       "      <td>https://www.shreemanglamlive.com/amidst-the-us...</td>\n",
       "      <td>ShreeManglamLive</td>\n",
       "      <td>1</td>\n",
       "      <td>2020-01-07 06:42:26</td>\n",
       "      <td>1.578372e+09</td>\n",
       "      <td>7</td>\n",
       "    </tr>\n",
       "    <tr>\n",
       "      <th>3</th>\n",
       "      <td>el6fow</td>\n",
       "      <td>Brazil's Bolsonaro backs Trump amid US-Iran te...</td>\n",
       "      <td>https://news.abs-cbn.com/overseas/01/07/20/bra...</td>\n",
       "      <td>arroz_com_feijao</td>\n",
       "      <td>1</td>\n",
       "      <td>2020-01-07 06:41:31</td>\n",
       "      <td>1.578372e+09</td>\n",
       "      <td>7</td>\n",
       "    </tr>\n",
       "    <tr>\n",
       "      <th>4</th>\n",
       "      <td>el6f56</td>\n",
       "      <td>अमेरिका के रक्षा मंत्री की दो-टूक, इराक से अमे...</td>\n",
       "      <td>https://www.shreemanglamlive.com/the-us-defens...</td>\n",
       "      <td>ShreeManglamLive</td>\n",
       "      <td>1</td>\n",
       "      <td>2020-01-07 06:40:18</td>\n",
       "      <td>1.578372e+09</td>\n",
       "      <td>7</td>\n",
       "    </tr>\n",
       "  </tbody>\n",
       "</table>\n",
       "</div>"
      ],
      "text/plain": [
       "  Post ID                                              Title                                                Url            Author  Score         Publish Date     Timestamp  Day\n",
       "0  el6ijt  Israel's Defense Chief Wants Gazans Jailed as ...  https://www.haaretz.com/israel-news/.premium-i...               NaN      4  2020-01-07 06:47:49  1.578372e+09    7\n",
       "1  el6i0u  ट्रंप के महाभियोग पर गवाही देने के लिए तैयार ज...  https://www.shreemanglamlive.com/john-bolton-r...  ShreeManglamLive      1  2020-01-07 06:46:35  1.578372e+09    7\n",
       "2  el6g4q  अमेरिका-ईरान विवाद के बीच पाकिस्‍तान ने कहा- अ...  https://www.shreemanglamlive.com/amidst-the-us...  ShreeManglamLive      1  2020-01-07 06:42:26  1.578372e+09    7\n",
       "3  el6fow  Brazil's Bolsonaro backs Trump amid US-Iran te...  https://news.abs-cbn.com/overseas/01/07/20/bra...  arroz_com_feijao      1  2020-01-07 06:41:31  1.578372e+09    7\n",
       "4  el6f56  अमेरिका के रक्षा मंत्री की दो-टूक, इराक से अमे...  https://www.shreemanglamlive.com/the-us-defens...  ShreeManglamLive      1  2020-01-07 06:40:18  1.578372e+09    7"
      ]
     },
     "execution_count": 113,
     "metadata": {},
     "output_type": "execute_result"
    }
   ],
   "source": [
    "monthNews['Day'] = monthNews[\"Publish Date\"].apply(lambda date: int(date.split(\" \")[0].split(\"-\")[2]))\n",
    "monthNews.head()"
   ]
  },
  {
   "cell_type": "code",
   "execution_count": 114,
   "id": "f8f046c4",
   "metadata": {},
   "outputs": [],
   "source": [
    "df = pd.DataFrame(columns=column_names)\n",
    "days = set(monthNews['Day'].tolist())\n",
    "for day in days:\n",
    "    day_top_news = monthNews.loc[monthNews[\"Day\"] == day].sort_values(by=['Score'], ascending=False)[:25]\n",
    "    day_top_news_list = day_top_news.values.tolist()\n",
    "    new_row = [day_top_news['Publish Date'].values[0].split(\" \")[0]]\n",
    "    for row in day_top_news_list:\n",
    "        new_row.append(row[1])\n",
    "       \n",
    "    df.loc[len(df.index)] = new_row \n",
    "    new_row = []\n",
    "    day_top_news_list = []\n",
    "#df.head(5)\n",
    "#print(df)\n"
   ]
  },
  {
   "cell_type": "code",
   "execution_count": 115,
   "id": "1ae15546",
   "metadata": {},
   "outputs": [],
   "source": [
    "monthNews = pd.read_csv('2020Data/February2020.csv')\n",
    "monthNews = monthNews.drop(monthNews.columns[0], axis=1)\n",
    "monthNews['Day'] = monthNews[\"Publish Date\"].apply(lambda date: int(date.split(\" \")[0].split(\"-\")[2]))\n",
    "days = set(monthNews['Day'].tolist())\n",
    "for day in days:\n",
    "    day_top_news = monthNews.loc[monthNews[\"Day\"] == day].sort_values(by=['Score'], ascending=False)[:25]\n",
    "    day_top_news_list = day_top_news.values.tolist()\n",
    "    new_row = [day_top_news['Publish Date'].values[0].split(\" \")[0]]\n",
    "    for row in day_top_news_list:\n",
    "        new_row.append(row[1])\n",
    "       \n",
    "    df.loc[len(df.index)] = new_row \n",
    "    new_row = []\n",
    "    day_top_news_list = []"
   ]
  },
  {
   "cell_type": "code",
   "execution_count": 116,
   "id": "930aa82d",
   "metadata": {},
   "outputs": [],
   "source": [
    "monthNews = pd.read_csv('2020Data/March2020.csv')\n",
    "monthNews = monthNews.drop(monthNews.columns[0], axis=1)\n",
    "monthNews['Day'] = monthNews[\"Publish Date\"].apply(lambda date: int(date.split(\" \")[0].split(\"-\")[2]))\n",
    "days = set(monthNews['Day'].tolist())\n",
    "for day in days:\n",
    "    day_top_news = monthNews.loc[monthNews[\"Day\"] == day].sort_values(by=['Score'], ascending=False)[:25]\n",
    "    day_top_news_list = day_top_news.values.tolist()\n",
    "    new_row = [day_top_news['Publish Date'].values[0].split(\" \")[0]]\n",
    "    for row in day_top_news_list:\n",
    "        new_row.append(row[1])\n",
    "       \n",
    "    df.loc[len(df.index)] = new_row \n",
    "    new_row = []\n",
    "    day_top_news_list = []"
   ]
  },
  {
   "cell_type": "code",
   "execution_count": 117,
   "id": "d586c636",
   "metadata": {},
   "outputs": [],
   "source": [
    "monthNews = pd.read_csv('2020Data/April2020.csv')\n",
    "monthNews = monthNews.drop(monthNews.columns[0], axis=1)\n",
    "monthNews['Day'] = monthNews[\"Publish Date\"].apply(lambda date: int(date.split(\" \")[0].split(\"-\")[2]))\n",
    "days = set(monthNews['Day'].tolist())\n",
    "for day in days:\n",
    "    day_top_news = monthNews.loc[monthNews[\"Day\"] == day].sort_values(by=['Score'], ascending=False)[:25]\n",
    "    day_top_news_list = day_top_news.values.tolist()\n",
    "    new_row = [day_top_news['Publish Date'].values[0].split(\" \")[0]]\n",
    "    for row in day_top_news_list:\n",
    "        new_row.append(row[1])\n",
    "       \n",
    "    df.loc[len(df.index)] = new_row \n",
    "    new_row = []\n",
    "    day_top_news_list = []"
   ]
  },
  {
   "cell_type": "code",
   "execution_count": 118,
   "id": "094bc572",
   "metadata": {},
   "outputs": [],
   "source": [
    "monthNews = pd.read_csv('2020Data/May2020.csv')\n",
    "monthNews = monthNews.drop(monthNews.columns[0], axis=1)\n",
    "monthNews['Day'] = monthNews[\"Publish Date\"].apply(lambda date: int(date.split(\" \")[0].split(\"-\")[2]))\n",
    "days = set(monthNews['Day'].tolist())\n",
    "for day in days:\n",
    "    day_top_news = monthNews.loc[monthNews[\"Day\"] == day].sort_values(by=['Score'], ascending=False)[:25]\n",
    "    day_top_news_list = day_top_news.values.tolist()\n",
    "    new_row = [day_top_news['Publish Date'].values[0].split(\" \")[0]]\n",
    "    for row in day_top_news_list:\n",
    "        new_row.append(row[1])\n",
    "       \n",
    "    df.loc[len(df.index)] = new_row \n",
    "    new_row = []\n",
    "    day_top_news_list = []"
   ]
  },
  {
   "cell_type": "code",
   "execution_count": 119,
   "id": "d1bdec79",
   "metadata": {},
   "outputs": [],
   "source": [
    "monthNews = pd.read_csv('2020Data/June2020.csv')\n",
    "monthNews = monthNews.drop(monthNews.columns[0], axis=1)\n",
    "monthNews['Day'] = monthNews[\"Publish Date\"].apply(lambda date: int(date.split(\" \")[0].split(\"-\")[2]))\n",
    "days = set(monthNews['Day'].tolist())\n",
    "for day in days:\n",
    "    day_top_news = monthNews.loc[monthNews[\"Day\"] == day].sort_values(by=['Score'], ascending=False)[:25]\n",
    "    day_top_news_list = day_top_news.values.tolist()\n",
    "    new_row = [day_top_news['Publish Date'].values[0].split(\" \")[0]]\n",
    "    for row in day_top_news_list:\n",
    "        new_row.append(row[1])\n",
    "       \n",
    "    df.loc[len(df.index)] = new_row \n",
    "    new_row = []\n",
    "    day_top_news_list = []"
   ]
  },
  {
   "cell_type": "code",
   "execution_count": 120,
   "id": "ad6c62d2",
   "metadata": {},
   "outputs": [],
   "source": [
    "monthNews = pd.read_csv('2020Data/July2020.csv')\n",
    "monthNews = monthNews.drop(monthNews.columns[0], axis=1)\n",
    "monthNews['Day'] = monthNews[\"Publish Date\"].apply(lambda date: int(date.split(\" \")[0].split(\"-\")[2]))\n",
    "days = set(monthNews['Day'].tolist())\n",
    "for day in days:\n",
    "    day_top_news = monthNews.loc[monthNews[\"Day\"] == day].sort_values(by=['Score'], ascending=False)[:25]\n",
    "    day_top_news_list = day_top_news.values.tolist()\n",
    "    new_row = [day_top_news['Publish Date'].values[0].split(\" \")[0]]\n",
    "    for row in day_top_news_list:\n",
    "        new_row.append(row[1])\n",
    "       \n",
    "    df.loc[len(df.index)] = new_row \n",
    "    new_row = []\n",
    "    day_top_news_list = []"
   ]
  },
  {
   "cell_type": "code",
   "execution_count": 121,
   "id": "19113c30",
   "metadata": {},
   "outputs": [],
   "source": [
    "monthNews = pd.read_csv('2020Data/August2020.csv')\n",
    "monthNews = monthNews.drop(monthNews.columns[0], axis=1)\n",
    "monthNews['Day'] = monthNews[\"Publish Date\"].apply(lambda date: int(date.split(\" \")[0].split(\"-\")[2]))\n",
    "days = set(monthNews['Day'].tolist())\n",
    "for day in days:\n",
    "    day_top_news = monthNews.loc[monthNews[\"Day\"] == day].sort_values(by=['Score'], ascending=False)[:25]\n",
    "    day_top_news_list = day_top_news.values.tolist()\n",
    "    new_row = [day_top_news['Publish Date'].values[0].split(\" \")[0]]\n",
    "    for row in day_top_news_list:\n",
    "        new_row.append(row[1])\n",
    "       \n",
    "    df.loc[len(df.index)] = new_row \n",
    "    new_row = []\n",
    "    day_top_news_list = []"
   ]
  },
  {
   "cell_type": "code",
   "execution_count": 122,
   "id": "a7062d26",
   "metadata": {},
   "outputs": [],
   "source": [
    "monthNews = pd.read_csv('2020Data/September2020.csv')\n",
    "monthNews = monthNews.drop(monthNews.columns[0], axis=1)\n",
    "monthNews['Day'] = monthNews[\"Publish Date\"].apply(lambda date: int(date.split(\" \")[0].split(\"-\")[2]))\n",
    "days = set(monthNews['Day'].tolist())\n",
    "for day in days:\n",
    "    day_top_news = monthNews.loc[monthNews[\"Day\"] == day].sort_values(by=['Score'], ascending=False)[:25]\n",
    "    day_top_news_list = day_top_news.values.tolist()\n",
    "    new_row = [day_top_news['Publish Date'].values[0].split(\" \")[0]]\n",
    "    for row in day_top_news_list:\n",
    "        new_row.append(row[1])\n",
    "       \n",
    "    df.loc[len(df.index)] = new_row \n",
    "    new_row = []\n",
    "    day_top_news_list = []"
   ]
  },
  {
   "cell_type": "code",
   "execution_count": 123,
   "id": "8d4f802a",
   "metadata": {},
   "outputs": [],
   "source": [
    "monthNews = pd.read_csv('2020Data/October2020.csv')\n",
    "monthNews = monthNews.drop(monthNews.columns[0], axis=1)\n",
    "monthNews['Day'] = monthNews[\"Publish Date\"].apply(lambda date: int(date.split(\" \")[0].split(\"-\")[2]))\n",
    "days = set(monthNews['Day'].tolist())\n",
    "for day in days:\n",
    "    day_top_news = monthNews.loc[monthNews[\"Day\"] == day].sort_values(by=['Score'], ascending=False)[:25]\n",
    "    day_top_news_list = day_top_news.values.tolist()\n",
    "    new_row = [day_top_news['Publish Date'].values[0].split(\" \")[0]]\n",
    "    for row in day_top_news_list:\n",
    "        new_row.append(row[1])\n",
    "       \n",
    "    df.loc[len(df.index)] = new_row \n",
    "    new_row = []\n",
    "    day_top_news_list = []"
   ]
  },
  {
   "cell_type": "code",
   "execution_count": 124,
   "id": "a3f789fc",
   "metadata": {},
   "outputs": [],
   "source": [
    "monthNews = pd.read_csv('2020Data/November2020.csv')\n",
    "monthNews = monthNews.drop(monthNews.columns[0], axis=1)\n",
    "monthNews['Day'] = monthNews[\"Publish Date\"].apply(lambda date: int(date.split(\" \")[0].split(\"-\")[2]))\n",
    "days = set(monthNews['Day'].tolist())\n",
    "for day in days:\n",
    "    day_top_news = monthNews.loc[monthNews[\"Day\"] == day].sort_values(by=['Score'], ascending=False)[:25]\n",
    "    day_top_news_list = day_top_news.values.tolist()\n",
    "    new_row = [day_top_news['Publish Date'].values[0].split(\" \")[0]]\n",
    "    for row in day_top_news_list:\n",
    "        new_row.append(row[1])\n",
    "       \n",
    "    df.loc[len(df.index)] = new_row \n",
    "    new_row = []\n",
    "    day_top_news_list = []"
   ]
  },
  {
   "cell_type": "code",
   "execution_count": 125,
   "id": "0eaa4de9",
   "metadata": {},
   "outputs": [],
   "source": [
    "monthNews = pd.read_csv('2020Data/December2020.csv')\n",
    "monthNews = monthNews.drop(monthNews.columns[0], axis=1)\n",
    "monthNews['Day'] = monthNews[\"Publish Date\"].apply(lambda date: int(date.split(\" \")[0].split(\"-\")[2]))\n",
    "days = set(monthNews['Day'].tolist())\n",
    "for day in days:\n",
    "    day_top_news = monthNews.loc[monthNews[\"Day\"] == day].sort_values(by=['Score'], ascending=False)[:25]\n",
    "    day_top_news_list = day_top_news.values.tolist()\n",
    "    new_row = [day_top_news['Publish Date'].values[0].split(\" \")[0]]\n",
    "    for row in day_top_news_list:\n",
    "        new_row.append(row[1])\n",
    "       \n",
    "    df.loc[len(df.index)] = new_row \n",
    "    new_row = []\n",
    "    day_top_news_list = []"
   ]
  },
  {
   "cell_type": "code",
   "execution_count": 128,
   "id": "f54d68dc",
   "metadata": {},
   "outputs": [
    {
     "name": "stdout",
     "output_type": "stream",
     "text": [
      "(366, 26)\n",
      "           Date                                               Top1\n",
      "0    2020-01-01  More than 1 million in Hong Kong New Year's Da...\n",
      "1    2020-01-02  Outrage and Disgust After 'Serial Killer' Navy...\n",
      "2    2020-01-03  Trump accused of hypocrisy for ordering the po...\n",
      "3    2020-01-04  Protesters break into PM Scott Morrison’s home...\n",
      "4    2020-01-05  The United States' main allies are abandoning ...\n",
      "..          ...                                                ...\n",
      "361  2020-12-27  A Scary Amount of Nutrition Science Has Deep T...\n",
      "362  2020-12-28  Chinese journalist who documented Wuhan corona...\n",
      "363  2020-12-29  Japan to create first wooden satellites that c...\n",
      "364  2020-12-30  UN calls Trump’s Blackwater pardons an ‘affron...\n",
      "365  2020-12-31  NATO is furious at Trump delaying the military...\n",
      "\n",
      "[366 rows x 2 columns]\n"
     ]
    }
   ],
   "source": [
    "print(df.shape)\n",
    "print(df[[\"Date\",\"Top1\"]])"
   ]
  },
  {
   "cell_type": "code",
   "execution_count": 129,
   "id": "c6486d23",
   "metadata": {},
   "outputs": [],
   "source": [
    "df.to_csv('top25year2020.csv')"
   ]
  },
  {
   "cell_type": "code",
   "execution_count": null,
   "id": "4587abf1",
   "metadata": {},
   "outputs": [],
   "source": []
  }
 ],
 "metadata": {
  "kernelspec": {
   "display_name": "Python 3",
   "language": "python",
   "name": "python3"
  },
  "language_info": {
   "codemirror_mode": {
    "name": "ipython",
    "version": 3
   },
   "file_extension": ".py",
   "mimetype": "text/x-python",
   "name": "python",
   "nbconvert_exporter": "python",
   "pygments_lexer": "ipython3",
   "version": "3.8.8"
  }
 },
 "nbformat": 4,
 "nbformat_minor": 5
}
